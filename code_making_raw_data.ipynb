{
 "cells": [
  {
   "cell_type": "markdown",
   "metadata": {},
   "source": [
    "brief- reading fits and csv files,removing rows with 0,nan and -9999, combining all files based on three catagories,creating dummy variables for flags.making raw data for further project"
   ]
  },
  {
   "cell_type": "code",
   "execution_count": 1,
   "metadata": {},
   "outputs": [],
   "source": [
    "from astropy.io import fits\n",
    "import numpy as np\n",
    "import matplotlib.pyplot as plt\n",
    "import pandas as pd"
   ]
  },
  {
   "cell_type": "markdown",
   "metadata": {},
   "source": [
    "# extracting mass and metallicity from (.fits) file"
   ]
  },
  {
   "cell_type": "code",
   "execution_count": 2,
   "metadata": {},
   "outputs": [],
   "source": [
    "file1=fits.open('galSpecExtra-dr8.fits')"
   ]
  },
  {
   "cell_type": "code",
   "execution_count": 3,
   "metadata": {},
   "outputs": [
    {
     "name": "stdout",
     "output_type": "stream",
     "text": [
      "Filename: galSpecExtra-dr8.fits\n",
      "No.    Name      Ver    Type      Cards   Dimensions   Format\n",
      "  0  PRIMARY       1 PrimaryHDU       4   ()      \n",
      "  1                1 BinTableHDU    107   1843200R x 45C   [19A, J, J, J, I, E, E, E, E, E, E, E, E, E, E, E, E, E, E, E, E, E, E, E, E, E, E, E, E, E, E, E, E, E, E, E, E, E, E, E, E, E, E, E, E]   \n"
     ]
    }
   ],
   "source": [
    "file1.info()"
   ]
  },
  {
   "cell_type": "code",
   "execution_count": 4,
   "metadata": {},
   "outputs": [
    {
     "data": {
      "text/plain": [
       "SIMPLE  =                    T /Dummy Created by MWRFITS v1.8                   \n",
       "BITPIX  =                    8 /Dummy primary header created by MWRFITS         \n",
       "NAXIS   =                    0 /No data is associated with this header          \n",
       "EXTEND  =                    T /Extensions may (will!) be present               "
      ]
     },
     "execution_count": 4,
     "metadata": {},
     "output_type": "execute_result"
    }
   ],
   "source": [
    "file1[0].header"
   ]
  },
  {
   "cell_type": "code",
   "execution_count": 5,
   "metadata": {},
   "outputs": [
    {
     "data": {
      "text/plain": [
       "XTENSION= 'BINTABLE'           /Binary table written by MWRFITS v1.8            \n",
       "BITPIX  =                    8 /Required value                                  \n",
       "NAXIS   =                    2 /Required value                                  \n",
       "NAXIS1  =                  193 /Number of bytes per row                         \n",
       "NAXIS2  =              1843200 /Number of rows                                  \n",
       "PCOUNT  =                    0 /Normally 0 (no varying arrays)                  \n",
       "GCOUNT  =                    1 /Required value                                  \n",
       "TFIELDS =                   45 /Number of columns in table                      \n",
       "COMMENT                                                                         \n",
       "COMMENT  *** End of mandatory fields ***                                        \n",
       "COMMENT                                                                         \n",
       "COMMENT                                                                         \n",
       "COMMENT  *** Column names ***                                                   \n",
       "COMMENT                                                                         \n",
       "TTYPE1  = 'SPECOBJID'          /                                                \n",
       "TTYPE2  = 'PLATEID '           /                                                \n",
       "TTYPE3  = 'MJD     '           /                                                \n",
       "TTYPE4  = 'FIBERID '           /                                                \n",
       "TTYPE5  = 'BPTCLASS'           /                                                \n",
       "TTYPE6  = 'LGM_TOT_P2P5'       /                                                \n",
       "TTYPE7  = 'LGM_TOT_P16'        /                                                \n",
       "TTYPE8  = 'LGM_TOT_P50'        /                                                \n",
       "TTYPE9  = 'LGM_TOT_P84'        /                                                \n",
       "TTYPE10 = 'LGM_TOT_P97P5'      /                                                \n",
       "TTYPE11 = 'LGM_FIB_P2P5'       /                                                \n",
       "TTYPE12 = 'LGM_FIB_P16'        /                                                \n",
       "TTYPE13 = 'LGM_FIB_P50'        /                                                \n",
       "TTYPE14 = 'LGM_FIB_P84'        /                                                \n",
       "TTYPE15 = 'LGM_FIB_P97P5'      /                                                \n",
       "TTYPE16 = 'OH_P2P5 '           /                                                \n",
       "TTYPE17 = 'OH_P16  '           /                                                \n",
       "TTYPE18 = 'OH_P50  '           /                                                \n",
       "TTYPE19 = 'OH_P84  '           /                                                \n",
       "TTYPE20 = 'OH_P97P5'           /                                                \n",
       "TTYPE21 = 'OH_ENTROPY'         /                                                \n",
       "TTYPE22 = 'SFR_TOT_P2P5'       /                                                \n",
       "TTYPE23 = 'SFR_TOT_P16'        /                                                \n",
       "TTYPE24 = 'SFR_TOT_P50'        /                                                \n",
       "TTYPE25 = 'SFR_TOT_P84'        /                                                \n",
       "TTYPE26 = 'SFR_TOT_P97P5'      /                                                \n",
       "TTYPE27 = 'SFR_TOT_ENTROPY'    /                                                \n",
       "TTYPE28 = 'SFR_FIB_P2P5'       /                                                \n",
       "TTYPE29 = 'SFR_FIB_P16'        /                                                \n",
       "TTYPE30 = 'SFR_FIB_P50'        /                                                \n",
       "TTYPE31 = 'SFR_FIB_P84'        /                                                \n",
       "TTYPE32 = 'SFR_FIB_P97P5'      /                                                \n",
       "TTYPE33 = 'SFR_FIB_ENTROPY'    /                                                \n",
       "TTYPE34 = 'SPECSFR_TOT_P2P5'   /                                                \n",
       "TTYPE35 = 'SPECSFR_TOT_P16'    /                                                \n",
       "TTYPE36 = 'SPECSFR_TOT_P50'    /                                                \n",
       "TTYPE37 = 'SPECSFR_TOT_P84'    /                                                \n",
       "TTYPE38 = 'SPECSFR_TOT_P97P5'  /                                                \n",
       "TTYPE39 = 'SPECSFR_TOT_ENTROPY' /                                               \n",
       "TTYPE40 = 'SPECSFR_FIB_P2P5'   /                                                \n",
       "TTYPE41 = 'SPECSFR_FIB_P16'    /                                                \n",
       "TTYPE42 = 'SPECSFR_FIB_P50'    /                                                \n",
       "TTYPE43 = 'SPECSFR_FIB_P84'    /                                                \n",
       "TTYPE44 = 'SPECSFR_FIB_P97P5'  /                                                \n",
       "TTYPE45 = 'SPECSFR_FIB_ENTROPY' /                                               \n",
       "COMMENT                                                                         \n",
       "COMMENT  *** Column formats ***                                                 \n",
       "COMMENT                                                                         \n",
       "TFORM1  = '19A     '           /                                                \n",
       "TFORM2  = 'J       '           /                                                \n",
       "TFORM3  = 'J       '           /                                                \n",
       "TFORM4  = 'J       '           /                                                \n",
       "TFORM5  = 'I       '           /                                                \n",
       "TFORM6  = 'E       '           /                                                \n",
       "TFORM7  = 'E       '           /                                                \n",
       "TFORM8  = 'E       '           /                                                \n",
       "TFORM9  = 'E       '           /                                                \n",
       "TFORM10 = 'E       '           /                                                \n",
       "TFORM11 = 'E       '           /                                                \n",
       "TFORM12 = 'E       '           /                                                \n",
       "TFORM13 = 'E       '           /                                                \n",
       "TFORM14 = 'E       '           /                                                \n",
       "TFORM15 = 'E       '           /                                                \n",
       "TFORM16 = 'E       '           /                                                \n",
       "TFORM17 = 'E       '           /                                                \n",
       "TFORM18 = 'E       '           /                                                \n",
       "TFORM19 = 'E       '           /                                                \n",
       "TFORM20 = 'E       '           /                                                \n",
       "TFORM21 = 'E       '           /                                                \n",
       "TFORM22 = 'E       '           /                                                \n",
       "TFORM23 = 'E       '           /                                                \n",
       "TFORM24 = 'E       '           /                                                \n",
       "TFORM25 = 'E       '           /                                                \n",
       "TFORM26 = 'E       '           /                                                \n",
       "TFORM27 = 'E       '           /                                                \n",
       "TFORM28 = 'E       '           /                                                \n",
       "TFORM29 = 'E       '           /                                                \n",
       "TFORM30 = 'E       '           /                                                \n",
       "TFORM31 = 'E       '           /                                                \n",
       "TFORM32 = 'E       '           /                                                \n",
       "TFORM33 = 'E       '           /                                                \n",
       "TFORM34 = 'E       '           /                                                \n",
       "TFORM35 = 'E       '           /                                                \n",
       "TFORM36 = 'E       '           /                                                \n",
       "TFORM37 = 'E       '           /                                                \n",
       "TFORM38 = 'E       '           /                                                \n",
       "TFORM39 = 'E       '           /                                                \n",
       "TFORM40 = 'E       '           /                                                \n",
       "TFORM41 = 'E       '           /                                                \n",
       "TFORM42 = 'E       '           /                                                \n",
       "TFORM43 = 'E       '           /                                                \n",
       "TFORM44 = 'E       '           /                                                \n",
       "TFORM45 = 'E       '           /                                                "
      ]
     },
     "execution_count": 5,
     "metadata": {},
     "output_type": "execute_result"
    }
   ],
   "source": [
    "file1[1].header"
   ]
  },
  {
   "cell_type": "code",
   "execution_count": 6,
   "metadata": {},
   "outputs": [],
   "source": [
    "data=file1[1].data"
   ]
  },
  {
   "cell_type": "code",
   "execution_count": 7,
   "metadata": {},
   "outputs": [],
   "source": [
    "data1={'plate':data['PLATEID'],'mjd':data['MJD'],'fiberid':data['FIBERID'],'OH_P50':data['OH_P50'],'LGM_TOT_P50':data['LGM_TOT_P50']}\n",
    "df=pd.DataFrame(data1)"
   ]
  },
  {
   "cell_type": "code",
   "execution_count": 8,
   "metadata": {},
   "outputs": [
    {
     "data": {
      "text/html": [
       "<div>\n",
       "<style scoped>\n",
       "    .dataframe tbody tr th:only-of-type {\n",
       "        vertical-align: middle;\n",
       "    }\n",
       "\n",
       "    .dataframe tbody tr th {\n",
       "        vertical-align: top;\n",
       "    }\n",
       "\n",
       "    .dataframe thead th {\n",
       "        text-align: right;\n",
       "    }\n",
       "</style>\n",
       "<table border=\"1\" class=\"dataframe\">\n",
       "  <thead>\n",
       "    <tr style=\"text-align: right;\">\n",
       "      <th></th>\n",
       "      <th>plate</th>\n",
       "      <th>mjd</th>\n",
       "      <th>fiberid</th>\n",
       "      <th>OH_P50</th>\n",
       "      <th>LGM_TOT_P50</th>\n",
       "    </tr>\n",
       "  </thead>\n",
       "  <tbody>\n",
       "    <tr>\n",
       "      <th>0</th>\n",
       "      <td>266</td>\n",
       "      <td>51602</td>\n",
       "      <td>1</td>\n",
       "      <td>-9999.0</td>\n",
       "      <td>10.294701</td>\n",
       "    </tr>\n",
       "    <tr>\n",
       "      <th>1</th>\n",
       "      <td>266</td>\n",
       "      <td>51602</td>\n",
       "      <td>2</td>\n",
       "      <td>-9999.0</td>\n",
       "      <td>11.162018</td>\n",
       "    </tr>\n",
       "    <tr>\n",
       "      <th>2</th>\n",
       "      <td>266</td>\n",
       "      <td>51602</td>\n",
       "      <td>3</td>\n",
       "      <td>-9999.0</td>\n",
       "      <td>-9999.000000</td>\n",
       "    </tr>\n",
       "    <tr>\n",
       "      <th>3</th>\n",
       "      <td>266</td>\n",
       "      <td>51602</td>\n",
       "      <td>4</td>\n",
       "      <td>-9999.0</td>\n",
       "      <td>11.373624</td>\n",
       "    </tr>\n",
       "    <tr>\n",
       "      <th>4</th>\n",
       "      <td>266</td>\n",
       "      <td>51602</td>\n",
       "      <td>5</td>\n",
       "      <td>-9999.0</td>\n",
       "      <td>-9999.000000</td>\n",
       "    </tr>\n",
       "    <tr>\n",
       "      <th>...</th>\n",
       "      <td>...</td>\n",
       "      <td>...</td>\n",
       "      <td>...</td>\n",
       "      <td>...</td>\n",
       "      <td>...</td>\n",
       "    </tr>\n",
       "    <tr>\n",
       "      <th>95</th>\n",
       "      <td>266</td>\n",
       "      <td>51602</td>\n",
       "      <td>96</td>\n",
       "      <td>-9999.0</td>\n",
       "      <td>7.850888</td>\n",
       "    </tr>\n",
       "    <tr>\n",
       "      <th>96</th>\n",
       "      <td>266</td>\n",
       "      <td>51602</td>\n",
       "      <td>97</td>\n",
       "      <td>-9999.0</td>\n",
       "      <td>11.439088</td>\n",
       "    </tr>\n",
       "    <tr>\n",
       "      <th>97</th>\n",
       "      <td>266</td>\n",
       "      <td>51602</td>\n",
       "      <td>98</td>\n",
       "      <td>-9999.0</td>\n",
       "      <td>10.853505</td>\n",
       "    </tr>\n",
       "    <tr>\n",
       "      <th>98</th>\n",
       "      <td>266</td>\n",
       "      <td>51602</td>\n",
       "      <td>99</td>\n",
       "      <td>-9999.0</td>\n",
       "      <td>-9999.000000</td>\n",
       "    </tr>\n",
       "    <tr>\n",
       "      <th>99</th>\n",
       "      <td>266</td>\n",
       "      <td>51602</td>\n",
       "      <td>100</td>\n",
       "      <td>-9999.0</td>\n",
       "      <td>11.777782</td>\n",
       "    </tr>\n",
       "  </tbody>\n",
       "</table>\n",
       "<p>100 rows × 5 columns</p>\n",
       "</div>"
      ],
      "text/plain": [
       "    plate    mjd  fiberid  OH_P50  LGM_TOT_P50\n",
       "0     266  51602        1 -9999.0    10.294701\n",
       "1     266  51602        2 -9999.0    11.162018\n",
       "2     266  51602        3 -9999.0 -9999.000000\n",
       "3     266  51602        4 -9999.0    11.373624\n",
       "4     266  51602        5 -9999.0 -9999.000000\n",
       "..    ...    ...      ...     ...          ...\n",
       "95    266  51602       96 -9999.0     7.850888\n",
       "96    266  51602       97 -9999.0    11.439088\n",
       "97    266  51602       98 -9999.0    10.853505\n",
       "98    266  51602       99 -9999.0 -9999.000000\n",
       "99    266  51602      100 -9999.0    11.777782\n",
       "\n",
       "[100 rows x 5 columns]"
      ]
     },
     "execution_count": 8,
     "metadata": {},
     "output_type": "execute_result"
    }
   ],
   "source": [
    "df.head(100)"
   ]
  },
  {
   "cell_type": "code",
   "execution_count": 9,
   "metadata": {},
   "outputs": [
    {
     "name": "stderr",
     "output_type": "stream",
     "text": [
      "C:\\Users\\Lenovo\\AppData\\Local\\Temp\\ipykernel_17200\\1460290643.py:1: FutureWarning: The pandas.np module is deprecated and will be removed from pandas in a future version. Import numpy directly instead.\n",
      "  df = df.replace(-9999,pd.np.nan)\n",
      "C:\\Users\\Lenovo\\AppData\\Local\\Temp\\ipykernel_17200\\1460290643.py:2: FutureWarning: The pandas.np module is deprecated and will be removed from pandas in a future version. Import numpy directly instead.\n",
      "  df=df.replace(0,pd.np.nan)\n"
     ]
    }
   ],
   "source": [
    "df = df.replace(-9999,pd.np.nan)\n",
    "df=df.replace(0,pd.np.nan)\n"
   ]
  },
  {
   "cell_type": "code",
   "execution_count": 10,
   "metadata": {},
   "outputs": [],
   "source": [
    "\n",
    "df.to_csv('raw_metallicity_stellarmass.csv',index=False)"
   ]
  },
  {
   "cell_type": "code",
   "execution_count": 11,
   "metadata": {},
   "outputs": [],
   "source": [
    "f1=pd.read_csv(\"raw_metallicity_stellarmass.csv\")"
   ]
  },
  {
   "cell_type": "code",
   "execution_count": 12,
   "metadata": {},
   "outputs": [],
   "source": [
    "f1=f1.dropna()"
   ]
  },
  {
   "cell_type": "markdown",
   "metadata": {},
   "source": [
    "file of mass and metallicity (cleaned data)"
   ]
  },
  {
   "cell_type": "code",
   "execution_count": 13,
   "metadata": {},
   "outputs": [],
   "source": [
    "f1.to_csv(\"mass_metallicity.csv\",index=False)"
   ]
  },
  {
   "cell_type": "code",
   "execution_count": 14,
   "metadata": {},
   "outputs": [],
   "source": [
    "m_m=pd.read_csv(\"mass_metallicity.csv\")"
   ]
  },
  {
   "cell_type": "code",
   "execution_count": 15,
   "metadata": {},
   "outputs": [
    {
     "data": {
      "text/html": [
       "<div>\n",
       "<style scoped>\n",
       "    .dataframe tbody tr th:only-of-type {\n",
       "        vertical-align: middle;\n",
       "    }\n",
       "\n",
       "    .dataframe tbody tr th {\n",
       "        vertical-align: top;\n",
       "    }\n",
       "\n",
       "    .dataframe thead th {\n",
       "        text-align: right;\n",
       "    }\n",
       "</style>\n",
       "<table border=\"1\" class=\"dataframe\">\n",
       "  <thead>\n",
       "    <tr style=\"text-align: right;\">\n",
       "      <th></th>\n",
       "      <th>plate</th>\n",
       "      <th>mjd</th>\n",
       "      <th>fiberid</th>\n",
       "      <th>OH_P50</th>\n",
       "      <th>LGM_TOT_P50</th>\n",
       "    </tr>\n",
       "  </thead>\n",
       "  <tbody>\n",
       "    <tr>\n",
       "      <th>0</th>\n",
       "      <td>266</td>\n",
       "      <td>51602</td>\n",
       "      <td>12</td>\n",
       "      <td>9.012159</td>\n",
       "      <td>10.139853</td>\n",
       "    </tr>\n",
       "    <tr>\n",
       "      <th>1</th>\n",
       "      <td>266</td>\n",
       "      <td>51602</td>\n",
       "      <td>15</td>\n",
       "      <td>8.932603</td>\n",
       "      <td>9.767632</td>\n",
       "    </tr>\n",
       "    <tr>\n",
       "      <th>2</th>\n",
       "      <td>266</td>\n",
       "      <td>51602</td>\n",
       "      <td>16</td>\n",
       "      <td>8.771097</td>\n",
       "      <td>9.364033</td>\n",
       "    </tr>\n",
       "    <tr>\n",
       "      <th>3</th>\n",
       "      <td>266</td>\n",
       "      <td>51602</td>\n",
       "      <td>49</td>\n",
       "      <td>9.118535</td>\n",
       "      <td>10.678596</td>\n",
       "    </tr>\n",
       "    <tr>\n",
       "      <th>4</th>\n",
       "      <td>266</td>\n",
       "      <td>51602</td>\n",
       "      <td>54</td>\n",
       "      <td>9.050081</td>\n",
       "      <td>10.870289</td>\n",
       "    </tr>\n",
       "    <tr>\n",
       "      <th>5</th>\n",
       "      <td>266</td>\n",
       "      <td>51602</td>\n",
       "      <td>60</td>\n",
       "      <td>9.110540</td>\n",
       "      <td>10.519801</td>\n",
       "    </tr>\n",
       "    <tr>\n",
       "      <th>6</th>\n",
       "      <td>266</td>\n",
       "      <td>51602</td>\n",
       "      <td>72</td>\n",
       "      <td>8.320573</td>\n",
       "      <td>8.462000</td>\n",
       "    </tr>\n",
       "    <tr>\n",
       "      <th>7</th>\n",
       "      <td>266</td>\n",
       "      <td>51602</td>\n",
       "      <td>81</td>\n",
       "      <td>8.951598</td>\n",
       "      <td>9.703085</td>\n",
       "    </tr>\n",
       "    <tr>\n",
       "      <th>8</th>\n",
       "      <td>266</td>\n",
       "      <td>51602</td>\n",
       "      <td>85</td>\n",
       "      <td>8.698087</td>\n",
       "      <td>9.268700</td>\n",
       "    </tr>\n",
       "    <tr>\n",
       "      <th>9</th>\n",
       "      <td>266</td>\n",
       "      <td>51602</td>\n",
       "      <td>86</td>\n",
       "      <td>8.205136</td>\n",
       "      <td>7.612726</td>\n",
       "    </tr>\n",
       "  </tbody>\n",
       "</table>\n",
       "</div>"
      ],
      "text/plain": [
       "   plate    mjd  fiberid    OH_P50  LGM_TOT_P50\n",
       "0    266  51602       12  9.012159    10.139853\n",
       "1    266  51602       15  8.932603     9.767632\n",
       "2    266  51602       16  8.771097     9.364033\n",
       "3    266  51602       49  9.118535    10.678596\n",
       "4    266  51602       54  9.050081    10.870289\n",
       "5    266  51602       60  9.110540    10.519801\n",
       "6    266  51602       72  8.320573     8.462000\n",
       "7    266  51602       81  8.951598     9.703085\n",
       "8    266  51602       85  8.698087     9.268700\n",
       "9    266  51602       86  8.205136     7.612726"
      ]
     },
     "execution_count": 15,
     "metadata": {},
     "output_type": "execute_result"
    }
   ],
   "source": [
    "m_m.head(10)"
   ]
  },
  {
   "cell_type": "code",
   "execution_count": 16,
   "metadata": {},
   "outputs": [
    {
     "data": {
      "text/plain": [
       "206980"
      ]
     },
     "execution_count": 16,
     "metadata": {},
     "output_type": "execute_result"
    }
   ],
   "source": [
    "len(m_m)"
   ]
  },
  {
   "cell_type": "markdown",
   "metadata": {},
   "source": [
    "five bands magnitude file"
   ]
  },
  {
   "cell_type": "code",
   "execution_count": 17,
   "metadata": {},
   "outputs": [],
   "source": [
    "bands=pd.read_csv(\"bands.csv\")"
   ]
  },
  {
   "cell_type": "markdown",
   "metadata": {},
   "source": [
    "merging the two files based on plate,mjd and fiberid"
   ]
  },
  {
   "cell_type": "code",
   "execution_count": 18,
   "metadata": {},
   "outputs": [],
   "source": [
    "updated_file_1=pd.merge(bands,m_m,how=\"inner\",on=[\"plate\",\"mjd\",\"fiberid\"])"
   ]
  },
  {
   "cell_type": "markdown",
   "metadata": {},
   "source": [
    "spectral lines file"
   ]
  },
  {
   "cell_type": "code",
   "execution_count": 19,
   "metadata": {},
   "outputs": [],
   "source": [
    "l_red=pd.read_csv(\"speclines.csv\")"
   ]
  },
  {
   "cell_type": "code",
   "execution_count": 20,
   "metadata": {},
   "outputs": [
    {
     "name": "stdout",
     "output_type": "stream",
     "text": [
      "<class 'pandas.core.frame.DataFrame'>\n",
      "RangeIndex: 742749 entries, 0 to 742748\n",
      "Data columns (total 11 columns):\n",
      " #   Column          Non-Null Count   Dtype  \n",
      "---  ------          --------------   -----  \n",
      " 0   plate           742749 non-null  int64  \n",
      " 1   mjd             742749 non-null  int64  \n",
      " 2   fiberid         742749 non-null  int64  \n",
      " 3   OII_3726_flux   742749 non-null  float64\n",
      " 4   OII_3729_flux   742749 non-null  float64\n",
      " 5   OIII_4959_flux  742749 non-null  float64\n",
      " 6   OIII_5007_flux  742749 non-null  float64\n",
      " 7   NII_6548_flux   742749 non-null  float64\n",
      " 8   NII_6584_flux   742749 non-null  float64\n",
      " 9   h_beta_flux     742749 non-null  float64\n",
      " 10  h_alpha_flux    742749 non-null  float64\n",
      "dtypes: float64(8), int64(3)\n",
      "memory usage: 62.3 MB\n"
     ]
    }
   ],
   "source": [
    "l_red.drop(\"zwarning\",axis=1,inplace=True)\n",
    "l_red.info()"
   ]
  },
  {
   "cell_type": "markdown",
   "metadata": {},
   "source": [
    "# combining all data"
   ]
  },
  {
   "cell_type": "code",
   "execution_count": 21,
   "metadata": {},
   "outputs": [],
   "source": [
    "updated_file_2=pd.merge(l_red,updated_file_1,how=\"inner\",on=[\"plate\",\"mjd\",\"fiberid\"])"
   ]
  },
  {
   "cell_type": "markdown",
   "metadata": {},
   "source": [
    "getting total flux of OII,OIII,NII"
   ]
  },
  {
   "cell_type": "code",
   "execution_count": 22,
   "metadata": {},
   "outputs": [],
   "source": [
    "updated_file_2['OII']=updated_file_2['OII_3726_flux']+updated_file_2[\"OII_3729_flux\"]\n",
    "updated_file_2['OIII']=updated_file_2['OIII_4959_flux']+updated_file_2[\"OIII_5007_flux\"]\n",
    "updated_file_2['NII']=updated_file_2['NII_6548_flux']+updated_file_2[\"NII_6584_flux\"]"
   ]
  },
  {
   "cell_type": "code",
   "execution_count": 23,
   "metadata": {},
   "outputs": [],
   "source": [
    "updated_file_2.drop([\"OII_3726_flux\",\"OII_3729_flux\",\"OIII_4959_flux\",\"OIII_5007_flux\",\"NII_6548_flux\",\"NII_6584_flux\"],axis=1,inplace=True)"
   ]
  },
  {
   "cell_type": "code",
   "execution_count": 24,
   "metadata": {},
   "outputs": [
    {
     "name": "stdout",
     "output_type": "stream",
     "text": [
      "<class 'pandas.core.frame.DataFrame'>\n",
      "Int64Index: 166714 entries, 0 to 166713\n",
      "Data columns (total 30 columns):\n",
      " #   Column         Non-Null Count   Dtype  \n",
      "---  ------         --------------   -----  \n",
      " 0   plate          166714 non-null  int64  \n",
      " 1   mjd            166714 non-null  int64  \n",
      " 2   fiberid        166714 non-null  int64  \n",
      " 3   h_beta_flux    166714 non-null  float64\n",
      " 4   h_alpha_flux   166714 non-null  float64\n",
      " 5   modelMag_u     166714 non-null  float64\n",
      " 6   modelMag_g     166714 non-null  float64\n",
      " 7   modelMag_r     166714 non-null  float64\n",
      " 8   modelMag_i     166714 non-null  float64\n",
      " 9   modelMag_z     166714 non-null  float64\n",
      " 10  modelMagErr_r  166714 non-null  float64\n",
      " 11  cModelMag_u    166714 non-null  float64\n",
      " 12  cModelMag_g    166714 non-null  float64\n",
      " 13  cModelMag_r    166714 non-null  float64\n",
      " 14  cModelMag_i    166714 non-null  float64\n",
      " 15  cModelMag_z    166714 non-null  float64\n",
      " 16  subClass       163033 non-null  object \n",
      " 17  extinction_u   166714 non-null  float64\n",
      " 18  extinction_g   166714 non-null  float64\n",
      " 19  extinction_r   166714 non-null  float64\n",
      " 20  extinction_i   166714 non-null  float64\n",
      " 21  extinction_z   166714 non-null  float64\n",
      " 22  z_p            166714 non-null  float64\n",
      " 23  z_s            166714 non-null  float64\n",
      " 24  zwarning       166714 non-null  int64  \n",
      " 25  OH_P50         166714 non-null  float64\n",
      " 26  LGM_TOT_P50    166714 non-null  float64\n",
      " 27  OII            166714 non-null  float64\n",
      " 28  OIII           166714 non-null  float64\n",
      " 29  NII            166714 non-null  float64\n",
      "dtypes: float64(25), int64(4), object(1)\n",
      "memory usage: 39.4+ MB\n"
     ]
    }
   ],
   "source": [
    "updated_file_2.info()"
   ]
  },
  {
   "cell_type": "markdown",
   "metadata": {},
   "source": [
    "# marking AGN flags of subaclass as 1 (galaxies having active galactic nuclie)"
   ]
  },
  {
   "cell_type": "markdown",
   "metadata": {},
   "source": [
    "using dummies"
   ]
  },
  {
   "cell_type": "code",
   "execution_count": 25,
   "metadata": {},
   "outputs": [
    {
     "data": {
      "text/html": [
       "<div>\n",
       "<style scoped>\n",
       "    .dataframe tbody tr th:only-of-type {\n",
       "        vertical-align: middle;\n",
       "    }\n",
       "\n",
       "    .dataframe tbody tr th {\n",
       "        vertical-align: top;\n",
       "    }\n",
       "\n",
       "    .dataframe thead th {\n",
       "        text-align: right;\n",
       "    }\n",
       "</style>\n",
       "<table border=\"1\" class=\"dataframe\">\n",
       "  <thead>\n",
       "    <tr style=\"text-align: right;\">\n",
       "      <th></th>\n",
       "      <th>AGN BROADLINE</th>\n",
       "      <th>BROADLINE</th>\n",
       "      <th>STARBURST</th>\n",
       "      <th>STARBURST BROADLINE</th>\n",
       "      <th>STARFORMING</th>\n",
       "      <th>STARFORMING BROADLINE</th>\n",
       "    </tr>\n",
       "  </thead>\n",
       "  <tbody>\n",
       "    <tr>\n",
       "      <th>0</th>\n",
       "      <td>0</td>\n",
       "      <td>0</td>\n",
       "      <td>0</td>\n",
       "      <td>0</td>\n",
       "      <td>1</td>\n",
       "      <td>0</td>\n",
       "    </tr>\n",
       "    <tr>\n",
       "      <th>1</th>\n",
       "      <td>0</td>\n",
       "      <td>0</td>\n",
       "      <td>0</td>\n",
       "      <td>0</td>\n",
       "      <td>1</td>\n",
       "      <td>0</td>\n",
       "    </tr>\n",
       "    <tr>\n",
       "      <th>2</th>\n",
       "      <td>0</td>\n",
       "      <td>0</td>\n",
       "      <td>0</td>\n",
       "      <td>0</td>\n",
       "      <td>1</td>\n",
       "      <td>0</td>\n",
       "    </tr>\n",
       "    <tr>\n",
       "      <th>3</th>\n",
       "      <td>0</td>\n",
       "      <td>0</td>\n",
       "      <td>1</td>\n",
       "      <td>0</td>\n",
       "      <td>0</td>\n",
       "      <td>0</td>\n",
       "    </tr>\n",
       "    <tr>\n",
       "      <th>4</th>\n",
       "      <td>0</td>\n",
       "      <td>0</td>\n",
       "      <td>0</td>\n",
       "      <td>0</td>\n",
       "      <td>1</td>\n",
       "      <td>0</td>\n",
       "    </tr>\n",
       "  </tbody>\n",
       "</table>\n",
       "</div>"
      ],
      "text/plain": [
       "   AGN BROADLINE  BROADLINE  STARBURST  STARBURST BROADLINE  STARFORMING  \\\n",
       "0              0          0          0                    0            1   \n",
       "1              0          0          0                    0            1   \n",
       "2              0          0          0                    0            1   \n",
       "3              0          0          1                    0            0   \n",
       "4              0          0          0                    0            1   \n",
       "\n",
       "   STARFORMING BROADLINE  \n",
       "0                      0  \n",
       "1                      0  \n",
       "2                      0  \n",
       "3                      0  \n",
       "4                      0  "
      ]
     },
     "execution_count": 25,
     "metadata": {},
     "output_type": "execute_result"
    }
   ],
   "source": [
    "subclass=pd.get_dummies(updated_file_2[\"subClass\"],drop_first=True)\n",
    "subclass.head(5)"
   ]
  },
  {
   "cell_type": "code",
   "execution_count": 26,
   "metadata": {},
   "outputs": [],
   "source": [
    "updated_file_2=pd.concat([updated_file_2,subclass[\"AGN BROADLINE\"]],axis=1)"
   ]
  },
  {
   "cell_type": "code",
   "execution_count": 27,
   "metadata": {},
   "outputs": [],
   "source": [
    "updated_file_2.drop(\"subClass\",axis=1,inplace=True)"
   ]
  },
  {
   "cell_type": "markdown",
   "metadata": {},
   "source": [
    "renaming models"
   ]
  },
  {
   "cell_type": "code",
   "execution_count": 28,
   "metadata": {},
   "outputs": [],
   "source": [
    "updated_file_2.rename(columns = {'modelMag_u' : 'u', 'modelMag_g' : 'g','modelMag_r' : 'r','modelMag_i' : 'i','modelMag_z' : 'z','cModelMag_u' : 'c_u','cModelMag_g' : 'c_g','cModelMag_r' : 'c_r','cModelMag_i' : 'c_i','cModelMag_z' : 'c_z','LGM_TOT_P50' : 'mass','OH_P50':'metallicity','AGN BROADLINE':'AGN','h_beta_flux':'h_beta','h_alpha_flux':'h_alpha','modelMagErr_r':'err_r'}, inplace = True)"
   ]
  },
  {
   "cell_type": "code",
   "execution_count": 29,
   "metadata": {},
   "outputs": [
    {
     "name": "stdout",
     "output_type": "stream",
     "text": [
      "<class 'pandas.core.frame.DataFrame'>\n",
      "Int64Index: 166714 entries, 0 to 166713\n",
      "Data columns (total 30 columns):\n",
      " #   Column        Non-Null Count   Dtype  \n",
      "---  ------        --------------   -----  \n",
      " 0   plate         166714 non-null  int64  \n",
      " 1   mjd           166714 non-null  int64  \n",
      " 2   fiberid       166714 non-null  int64  \n",
      " 3   h_beta        166714 non-null  float64\n",
      " 4   h_alpha       166714 non-null  float64\n",
      " 5   u             166714 non-null  float64\n",
      " 6   g             166714 non-null  float64\n",
      " 7   r             166714 non-null  float64\n",
      " 8   i             166714 non-null  float64\n",
      " 9   z             166714 non-null  float64\n",
      " 10  err_r         166714 non-null  float64\n",
      " 11  c_u           166714 non-null  float64\n",
      " 12  c_g           166714 non-null  float64\n",
      " 13  c_r           166714 non-null  float64\n",
      " 14  c_i           166714 non-null  float64\n",
      " 15  c_z           166714 non-null  float64\n",
      " 16  extinction_u  166714 non-null  float64\n",
      " 17  extinction_g  166714 non-null  float64\n",
      " 18  extinction_r  166714 non-null  float64\n",
      " 19  extinction_i  166714 non-null  float64\n",
      " 20  extinction_z  166714 non-null  float64\n",
      " 21  z_p           166714 non-null  float64\n",
      " 22  z_s           166714 non-null  float64\n",
      " 23  zwarning      166714 non-null  int64  \n",
      " 24  metallicity   166714 non-null  float64\n",
      " 25  mass          166714 non-null  float64\n",
      " 26  OII           166714 non-null  float64\n",
      " 27  OIII          166714 non-null  float64\n",
      " 28  NII           166714 non-null  float64\n",
      " 29  AGN           166714 non-null  uint8  \n",
      "dtypes: float64(25), int64(4), uint8(1)\n",
      "memory usage: 38.3 MB\n"
     ]
    }
   ],
   "source": [
    "updated_file_2.info()"
   ]
  },
  {
   "cell_type": "code",
   "execution_count": 30,
   "metadata": {},
   "outputs": [
    {
     "data": {
      "text/html": [
       "<div>\n",
       "<style scoped>\n",
       "    .dataframe tbody tr th:only-of-type {\n",
       "        vertical-align: middle;\n",
       "    }\n",
       "\n",
       "    .dataframe tbody tr th {\n",
       "        vertical-align: top;\n",
       "    }\n",
       "\n",
       "    .dataframe thead th {\n",
       "        text-align: right;\n",
       "    }\n",
       "</style>\n",
       "<table border=\"1\" class=\"dataframe\">\n",
       "  <thead>\n",
       "    <tr style=\"text-align: right;\">\n",
       "      <th></th>\n",
       "      <th>plate</th>\n",
       "      <th>mjd</th>\n",
       "      <th>fiberid</th>\n",
       "      <th>h_beta</th>\n",
       "      <th>h_alpha</th>\n",
       "      <th>u</th>\n",
       "      <th>g</th>\n",
       "      <th>r</th>\n",
       "      <th>i</th>\n",
       "      <th>z</th>\n",
       "      <th>...</th>\n",
       "      <th>extinction_z</th>\n",
       "      <th>z_p</th>\n",
       "      <th>z_s</th>\n",
       "      <th>zwarning</th>\n",
       "      <th>metallicity</th>\n",
       "      <th>mass</th>\n",
       "      <th>OII</th>\n",
       "      <th>OIII</th>\n",
       "      <th>NII</th>\n",
       "      <th>AGN</th>\n",
       "    </tr>\n",
       "  </thead>\n",
       "  <tbody>\n",
       "    <tr>\n",
       "      <th>0</th>\n",
       "      <td>266</td>\n",
       "      <td>51630</td>\n",
       "      <td>6</td>\n",
       "      <td>38.33226</td>\n",
       "      <td>127.3058</td>\n",
       "      <td>19.48419</td>\n",
       "      <td>18.32629</td>\n",
       "      <td>17.84381</td>\n",
       "      <td>17.52679</td>\n",
       "      <td>17.42098</td>\n",
       "      <td>...</td>\n",
       "      <td>0.066067</td>\n",
       "      <td>0.082959</td>\n",
       "      <td>0.052654</td>\n",
       "      <td>0</td>\n",
       "      <td>8.688159</td>\n",
       "      <td>9.363875</td>\n",
       "      <td>96.70390</td>\n",
       "      <td>48.104540</td>\n",
       "      <td>34.339915</td>\n",
       "      <td>0</td>\n",
       "    </tr>\n",
       "    <tr>\n",
       "      <th>1</th>\n",
       "      <td>266</td>\n",
       "      <td>51630</td>\n",
       "      <td>17</td>\n",
       "      <td>46.94843</td>\n",
       "      <td>206.2126</td>\n",
       "      <td>19.07068</td>\n",
       "      <td>17.61512</td>\n",
       "      <td>16.97374</td>\n",
       "      <td>16.57817</td>\n",
       "      <td>16.34779</td>\n",
       "      <td>...</td>\n",
       "      <td>0.092948</td>\n",
       "      <td>0.077703</td>\n",
       "      <td>0.064959</td>\n",
       "      <td>0</td>\n",
       "      <td>9.052521</td>\n",
       "      <td>10.138845</td>\n",
       "      <td>64.26882</td>\n",
       "      <td>20.426900</td>\n",
       "      <td>99.031750</td>\n",
       "      <td>0</td>\n",
       "    </tr>\n",
       "    <tr>\n",
       "      <th>2</th>\n",
       "      <td>266</td>\n",
       "      <td>51630</td>\n",
       "      <td>41</td>\n",
       "      <td>66.98206</td>\n",
       "      <td>351.3045</td>\n",
       "      <td>18.54270</td>\n",
       "      <td>17.05090</td>\n",
       "      <td>16.25521</td>\n",
       "      <td>15.79538</td>\n",
       "      <td>15.45037</td>\n",
       "      <td>...</td>\n",
       "      <td>0.066998</td>\n",
       "      <td>0.068409</td>\n",
       "      <td>0.065183</td>\n",
       "      <td>0</td>\n",
       "      <td>9.136789</td>\n",
       "      <td>10.678234</td>\n",
       "      <td>60.94239</td>\n",
       "      <td>27.251414</td>\n",
       "      <td>196.946670</td>\n",
       "      <td>0</td>\n",
       "    </tr>\n",
       "    <tr>\n",
       "      <th>3</th>\n",
       "      <td>266</td>\n",
       "      <td>51630</td>\n",
       "      <td>44</td>\n",
       "      <td>73.13292</td>\n",
       "      <td>332.5545</td>\n",
       "      <td>21.35108</td>\n",
       "      <td>20.03811</td>\n",
       "      <td>22.92755</td>\n",
       "      <td>20.53038</td>\n",
       "      <td>20.99983</td>\n",
       "      <td>...</td>\n",
       "      <td>0.064205</td>\n",
       "      <td>-9999.000000</td>\n",
       "      <td>0.154813</td>\n",
       "      <td>0</td>\n",
       "      <td>8.981265</td>\n",
       "      <td>10.483578</td>\n",
       "      <td>116.68561</td>\n",
       "      <td>36.836870</td>\n",
       "      <td>125.202030</td>\n",
       "      <td>0</td>\n",
       "    </tr>\n",
       "    <tr>\n",
       "      <th>4</th>\n",
       "      <td>266</td>\n",
       "      <td>51630</td>\n",
       "      <td>51</td>\n",
       "      <td>257.94090</td>\n",
       "      <td>1151.2110</td>\n",
       "      <td>17.37162</td>\n",
       "      <td>16.17903</td>\n",
       "      <td>15.50150</td>\n",
       "      <td>15.05806</td>\n",
       "      <td>14.78616</td>\n",
       "      <td>...</td>\n",
       "      <td>0.078609</td>\n",
       "      <td>0.070731</td>\n",
       "      <td>0.064902</td>\n",
       "      <td>0</td>\n",
       "      <td>9.050070</td>\n",
       "      <td>10.870276</td>\n",
       "      <td>313.23040</td>\n",
       "      <td>128.686930</td>\n",
       "      <td>750.267400</td>\n",
       "      <td>0</td>\n",
       "    </tr>\n",
       "  </tbody>\n",
       "</table>\n",
       "<p>5 rows × 30 columns</p>\n",
       "</div>"
      ],
      "text/plain": [
       "   plate    mjd  fiberid     h_beta    h_alpha         u         g         r  \\\n",
       "0    266  51630        6   38.33226   127.3058  19.48419  18.32629  17.84381   \n",
       "1    266  51630       17   46.94843   206.2126  19.07068  17.61512  16.97374   \n",
       "2    266  51630       41   66.98206   351.3045  18.54270  17.05090  16.25521   \n",
       "3    266  51630       44   73.13292   332.5545  21.35108  20.03811  22.92755   \n",
       "4    266  51630       51  257.94090  1151.2110  17.37162  16.17903  15.50150   \n",
       "\n",
       "          i         z  ...  extinction_z          z_p       z_s  zwarning  \\\n",
       "0  17.52679  17.42098  ...      0.066067     0.082959  0.052654         0   \n",
       "1  16.57817  16.34779  ...      0.092948     0.077703  0.064959         0   \n",
       "2  15.79538  15.45037  ...      0.066998     0.068409  0.065183         0   \n",
       "3  20.53038  20.99983  ...      0.064205 -9999.000000  0.154813         0   \n",
       "4  15.05806  14.78616  ...      0.078609     0.070731  0.064902         0   \n",
       "\n",
       "   metallicity       mass        OII        OIII         NII  AGN  \n",
       "0     8.688159   9.363875   96.70390   48.104540   34.339915    0  \n",
       "1     9.052521  10.138845   64.26882   20.426900   99.031750    0  \n",
       "2     9.136789  10.678234   60.94239   27.251414  196.946670    0  \n",
       "3     8.981265  10.483578  116.68561   36.836870  125.202030    0  \n",
       "4     9.050070  10.870276  313.23040  128.686930  750.267400    0  \n",
       "\n",
       "[5 rows x 30 columns]"
      ]
     },
     "execution_count": 30,
     "metadata": {},
     "output_type": "execute_result"
    }
   ],
   "source": [
    "updated_file_2.head()"
   ]
  },
  {
   "cell_type": "code",
   "execution_count": 31,
   "metadata": {},
   "outputs": [],
   "source": [
    "updated_file_2.to_csv(\"complete_rawdata.csv\",index=False)"
   ]
  },
  {
   "cell_type": "code",
   "execution_count": null,
   "metadata": {},
   "outputs": [],
   "source": []
  }
 ],
 "metadata": {
  "interpreter": {
   "hash": "8c3d4d9970fc5c09c50d9318a9c7fbf4d0159e4b28833276f5678ee22bded273"
  },
  "kernelspec": {
   "display_name": "Python 3.10.3 64-bit",
   "language": "python",
   "name": "python3"
  },
  "language_info": {
   "codemirror_mode": {
    "name": "ipython",
    "version": 3
   },
   "file_extension": ".py",
   "mimetype": "text/x-python",
   "name": "python",
   "nbconvert_exporter": "python",
   "pygments_lexer": "ipython3",
   "version": "3.10.3"
  },
  "orig_nbformat": 4
 },
 "nbformat": 4,
 "nbformat_minor": 2
}
