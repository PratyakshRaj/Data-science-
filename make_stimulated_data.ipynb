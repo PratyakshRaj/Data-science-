{
 "cells": [
  {
   "cell_type": "markdown",
   "metadata": {},
   "source": [
    "# breif\n",
    "\n",
    "here we make 100 stimulated catalogs for each dataset using guassian distribution, with mean as observed value and error in measurement as standard diviation for each band,redshift and mass. But for mass standard diviation is used as half of difference between 16th and 84th percentile value listed in catalog."
   ]
  },
  {
   "cell_type": "code",
   "execution_count": 2,
   "metadata": {},
   "outputs": [],
   "source": [
    "import pandas as pd\n",
    "import matplotlib.pyplot as plt\n",
    "import numpy as np\n",
    "import seaborn as sns\n",
    "import sklearn\n",
    "from astropy.io import fits"
   ]
  },
  {
   "cell_type": "code",
   "execution_count": 16,
   "metadata": {},
   "outputs": [],
   "source": [
    "file1=fits.open('galSpecExtra-dr8.fits')"
   ]
  },
  {
   "cell_type": "code",
   "execution_count": 17,
   "metadata": {},
   "outputs": [
    {
     "name": "stderr",
     "output_type": "stream",
     "text": [
      "/tmp/ipykernel_26723/1848980568.py:5: FutureWarning: The pandas.np module is deprecated and will be removed from pandas in a future version. Import numpy directly instead.\n",
      "  df = df.replace(-9999,pd.np.nan)\n",
      "/tmp/ipykernel_26723/1848980568.py:6: FutureWarning: The pandas.np module is deprecated and will be removed from pandas in a future version. Import numpy directly instead.\n",
      "  df=df.replace(0,pd.np.nan)\n"
     ]
    }
   ],
   "source": [
    "data=file1[1].data\n",
    "data1={'plate':data['PLATEID'],'mjd':data['MJD'],'fiberid':data['FIBERID'],'OH_P50':data['OH_P50'],'LGM_TOT_P50':data['LGM_TOT_P50'],'LGM_TOT_P16':data['LGM_TOT_P16'],'LGM_TOT_P84':data['LGM_TOT_P84']}\n",
    "f=pd.DataFrame(data1)\n",
    "df=f.copy()\n",
    "df = df.replace(-9999,pd.np.nan)\n",
    "df=df.replace(0,pd.np.nan)\n",
    "\n"
   ]
  },
  {
   "cell_type": "code",
   "execution_count": 18,
   "metadata": {},
   "outputs": [],
   "source": [
    "df.to_csv('raw_metallicity_stellarmass.csv',index=False)\n",
    "f1=pd.read_csv(\"raw_metallicity_stellarmass.csv\")"
   ]
  },
  {
   "cell_type": "code",
   "execution_count": 19,
   "metadata": {},
   "outputs": [],
   "source": [
    "f1=f1.dropna()"
   ]
  },
  {
   "cell_type": "code",
   "execution_count": 20,
   "metadata": {},
   "outputs": [],
   "source": [
    "f1['err_mass']=(f1['LGM_TOT_P84']-f1['LGM_TOT_P16'])/2\n",
    "f1.drop(['LGM_TOT_P84','LGM_TOT_P16','LGM_TOT_P50','OH_P50'],axis=1,inplace=True)"
   ]
  },
  {
   "cell_type": "markdown",
   "metadata": {},
   "source": [
    "stimulated set 1"
   ]
  },
  {
   "cell_type": "code",
   "execution_count": 56,
   "metadata": {},
   "outputs": [
    {
     "data": {
      "text/html": [
       "<div>\n",
       "<style scoped>\n",
       "    .dataframe tbody tr th:only-of-type {\n",
       "        vertical-align: middle;\n",
       "    }\n",
       "\n",
       "    .dataframe tbody tr th {\n",
       "        vertical-align: top;\n",
       "    }\n",
       "\n",
       "    .dataframe thead th {\n",
       "        text-align: right;\n",
       "    }\n",
       "</style>\n",
       "<table border=\"1\" class=\"dataframe\">\n",
       "  <thead>\n",
       "    <tr style=\"text-align: right;\">\n",
       "      <th></th>\n",
       "      <th>plate</th>\n",
       "      <th>mjd</th>\n",
       "      <th>fiberid</th>\n",
       "      <th>err_mass</th>\n",
       "      <th>err_u</th>\n",
       "      <th>err_g</th>\n",
       "      <th>err_r</th>\n",
       "      <th>err_i</th>\n",
       "      <th>err_z</th>\n",
       "      <th>err_z_p</th>\n",
       "    </tr>\n",
       "  </thead>\n",
       "  <tbody>\n",
       "    <tr>\n",
       "      <th>0</th>\n",
       "      <td>266</td>\n",
       "      <td>51630</td>\n",
       "      <td>189</td>\n",
       "      <td>0.105206</td>\n",
       "      <td>0.073024</td>\n",
       "      <td>0.011102</td>\n",
       "      <td>0.007450</td>\n",
       "      <td>0.006925</td>\n",
       "      <td>0.017384</td>\n",
       "      <td>0.022969</td>\n",
       "    </tr>\n",
       "    <tr>\n",
       "      <th>1</th>\n",
       "      <td>266</td>\n",
       "      <td>51630</td>\n",
       "      <td>229</td>\n",
       "      <td>0.094424</td>\n",
       "      <td>0.059005</td>\n",
       "      <td>0.012581</td>\n",
       "      <td>0.008296</td>\n",
       "      <td>0.008663</td>\n",
       "      <td>0.025167</td>\n",
       "      <td>0.021380</td>\n",
       "    </tr>\n",
       "    <tr>\n",
       "      <th>2</th>\n",
       "      <td>266</td>\n",
       "      <td>51630</td>\n",
       "      <td>247</td>\n",
       "      <td>0.135959</td>\n",
       "      <td>0.064654</td>\n",
       "      <td>0.010712</td>\n",
       "      <td>0.007548</td>\n",
       "      <td>0.006914</td>\n",
       "      <td>0.015984</td>\n",
       "      <td>0.027352</td>\n",
       "    </tr>\n",
       "    <tr>\n",
       "      <th>4</th>\n",
       "      <td>266</td>\n",
       "      <td>51630</td>\n",
       "      <td>289</td>\n",
       "      <td>0.092515</td>\n",
       "      <td>0.052749</td>\n",
       "      <td>0.009343</td>\n",
       "      <td>0.007808</td>\n",
       "      <td>0.008055</td>\n",
       "      <td>0.021788</td>\n",
       "      <td>0.021798</td>\n",
       "    </tr>\n",
       "    <tr>\n",
       "      <th>5</th>\n",
       "      <td>266</td>\n",
       "      <td>51630</td>\n",
       "      <td>323</td>\n",
       "      <td>0.078263</td>\n",
       "      <td>0.056037</td>\n",
       "      <td>0.011029</td>\n",
       "      <td>0.009181</td>\n",
       "      <td>0.010561</td>\n",
       "      <td>0.029714</td>\n",
       "      <td>0.025824</td>\n",
       "    </tr>\n",
       "    <tr>\n",
       "      <th>...</th>\n",
       "      <td>...</td>\n",
       "      <td>...</td>\n",
       "      <td>...</td>\n",
       "      <td>...</td>\n",
       "      <td>...</td>\n",
       "      <td>...</td>\n",
       "      <td>...</td>\n",
       "      <td>...</td>\n",
       "      <td>...</td>\n",
       "      <td>...</td>\n",
       "    </tr>\n",
       "    <tr>\n",
       "      <th>28678</th>\n",
       "      <td>2974</td>\n",
       "      <td>54592</td>\n",
       "      <td>506</td>\n",
       "      <td>0.445301</td>\n",
       "      <td>0.037850</td>\n",
       "      <td>0.007513</td>\n",
       "      <td>0.006641</td>\n",
       "      <td>0.006677</td>\n",
       "      <td>0.019067</td>\n",
       "      <td>0.022078</td>\n",
       "    </tr>\n",
       "    <tr>\n",
       "      <th>28679</th>\n",
       "      <td>2974</td>\n",
       "      <td>54592</td>\n",
       "      <td>534</td>\n",
       "      <td>0.471781</td>\n",
       "      <td>0.045569</td>\n",
       "      <td>0.007868</td>\n",
       "      <td>0.006478</td>\n",
       "      <td>0.006572</td>\n",
       "      <td>0.018552</td>\n",
       "      <td>0.021059</td>\n",
       "    </tr>\n",
       "    <tr>\n",
       "      <th>28680</th>\n",
       "      <td>2974</td>\n",
       "      <td>54592</td>\n",
       "      <td>560</td>\n",
       "      <td>0.436128</td>\n",
       "      <td>0.052764</td>\n",
       "      <td>0.007885</td>\n",
       "      <td>0.007072</td>\n",
       "      <td>0.007457</td>\n",
       "      <td>0.024722</td>\n",
       "      <td>0.024153</td>\n",
       "    </tr>\n",
       "    <tr>\n",
       "      <th>28681</th>\n",
       "      <td>2974</td>\n",
       "      <td>54592</td>\n",
       "      <td>564</td>\n",
       "      <td>0.430809</td>\n",
       "      <td>0.035624</td>\n",
       "      <td>0.006605</td>\n",
       "      <td>0.005944</td>\n",
       "      <td>0.006031</td>\n",
       "      <td>0.017571</td>\n",
       "      <td>0.022688</td>\n",
       "    </tr>\n",
       "    <tr>\n",
       "      <th>28682</th>\n",
       "      <td>2974</td>\n",
       "      <td>54592</td>\n",
       "      <td>572</td>\n",
       "      <td>0.448622</td>\n",
       "      <td>0.043920</td>\n",
       "      <td>0.006222</td>\n",
       "      <td>0.005443</td>\n",
       "      <td>0.005650</td>\n",
       "      <td>0.017487</td>\n",
       "      <td>0.021357</td>\n",
       "    </tr>\n",
       "  </tbody>\n",
       "</table>\n",
       "<p>28604 rows × 10 columns</p>\n",
       "</div>"
      ],
      "text/plain": [
       "       plate    mjd  fiberid  err_mass     err_u     err_g     err_r  \\\n",
       "0        266  51630      189  0.105206  0.073024  0.011102  0.007450   \n",
       "1        266  51630      229  0.094424  0.059005  0.012581  0.008296   \n",
       "2        266  51630      247  0.135959  0.064654  0.010712  0.007548   \n",
       "4        266  51630      289  0.092515  0.052749  0.009343  0.007808   \n",
       "5        266  51630      323  0.078263  0.056037  0.011029  0.009181   \n",
       "...      ...    ...      ...       ...       ...       ...       ...   \n",
       "28678   2974  54592      506  0.445301  0.037850  0.007513  0.006641   \n",
       "28679   2974  54592      534  0.471781  0.045569  0.007868  0.006478   \n",
       "28680   2974  54592      560  0.436128  0.052764  0.007885  0.007072   \n",
       "28681   2974  54592      564  0.430809  0.035624  0.006605  0.005944   \n",
       "28682   2974  54592      572  0.448622  0.043920  0.006222  0.005443   \n",
       "\n",
       "          err_i     err_z   err_z_p  \n",
       "0      0.006925  0.017384  0.022969  \n",
       "1      0.008663  0.025167  0.021380  \n",
       "2      0.006914  0.015984  0.027352  \n",
       "4      0.008055  0.021788  0.021798  \n",
       "5      0.010561  0.029714  0.025824  \n",
       "...         ...       ...       ...  \n",
       "28678  0.006677  0.019067  0.022078  \n",
       "28679  0.006572  0.018552  0.021059  \n",
       "28680  0.007457  0.024722  0.024153  \n",
       "28681  0.006031  0.017571  0.022688  \n",
       "28682  0.005650  0.017487  0.021357  \n",
       "\n",
       "[28604 rows x 10 columns]"
      ]
     },
     "execution_count": 56,
     "metadata": {},
     "output_type": "execute_result"
    }
   ],
   "source": [
    "f2=pd.read_csv(\"errtest1.csv\")\n",
    "final_err_1=pd.merge(f1,f2,how=\"inner\",on=[\"plate\",\"mjd\",\"fiberid\"])\n",
    "final_err_1.drop(final_err_1[final_err_1['err_z_p']==-9999].index,inplace=True)\n",
    "final_err_1"
   ]
  },
  {
   "cell_type": "code",
   "execution_count": 57,
   "metadata": {},
   "outputs": [
    {
     "name": "stderr",
     "output_type": "stream",
     "text": [
      "/tmp/ipykernel_26723/4204477866.py:4: SettingWithCopyWarning: \n",
      "A value is trying to be set on a copy of a slice from a DataFrame\n",
      "\n",
      "See the caveats in the documentation: https://pandas.pydata.org/pandas-docs/stable/user_guide/indexing.html#returning-a-view-versus-a-copy\n",
      "  data_set1.drop(\"z_s\",axis=1,inplace=True)\n"
     ]
    }
   ],
   "source": [
    "file1=pd.read_csv(\"use_this_data.csv\")\n",
    "file1.drop([\"h_beta\",\"h_alpha\",\"OIII\",\"NII\",\"OII\"],axis=1,inplace=True) # dropping spectroscopic params.\n",
    "data_set1=file1[((file1['z_s']>0.09) & (file1['z_s']<0.12)) & (file1['r']<18)]\n",
    "data_set1.drop(\"z_s\",axis=1,inplace=True)"
   ]
  },
  {
   "cell_type": "code",
   "execution_count": 58,
   "metadata": {},
   "outputs": [],
   "source": [
    "data_set1=data_set1[[\"plate\",\"mjd\",\"fiberid\",'u','g','r','i','z','z_p','metallicity','mass']]\n",
    "set1=pd.merge(data_set1,final_err_1,how=\"inner\",on=[\"plate\",\"mjd\",\"fiberid\"])\n",
    "test_1= set1.sample(frac = 0.0042)"
   ]
  },
  {
   "cell_type": "code",
   "execution_count": 120,
   "metadata": {},
   "outputs": [
    {
     "data": {
      "image/png": "[encoded data removed]",
      "text/plain": [
       "<Figure size 432x288 with 1 Axes>"
      ]
     },
     "metadata": {
      "needs_background": "light"
     },
     "output_type": "display_data"
    }
   ],
   "source": [
    "guass_x=[]\n",
    "for i,j in zip(['u','g','r','i','z','z_p','mass'],['err_u','err_g','err_r','err_i','err_z','err_z_p','err_mass']):\n",
    "   temp=[]\n",
    "   for k in range(100): \n",
    "       mu, sigma = test_1[i].iloc[k],test_1[j].iloc[k] # mean and standard deviation\n",
    "       s = np.random.normal(mu, sigma,1000)\n",
    "       count, bins, ignored = plt.hist(s, 100, density=True)\n",
    "       temp.append(bins[np.argmax(count)])\n",
    "   guass_x.append(temp)    "
   ]
  },
  {
   "cell_type": "code",
   "execution_count": 124,
   "metadata": {},
   "outputs": [],
   "source": [
    "new_test_1=pd.DataFrame(data={\"u\":guass_x[0],\"g\":guass_x[1],\"r\":guass_x[2],\"i\":guass_x[3],\"z\":guass_x[4],\"z_p\":guass_x[5],\"mass\":guass_x[6],'metallicity':test_1['metallicity']})"
   ]
  },
  {
   "cell_type": "code",
   "execution_count": 126,
   "metadata": {},
   "outputs": [],
   "source": [
    "new_test_1[\"u-g\"]=new_test_1[\"u\"]-new_test_1[\"g\"] \n",
    "new_test_1[\"u-r\"]=new_test_1[\"u\"]-new_test_1[\"r\"] \n",
    "new_test_1[\"u-i\"]=new_test_1[\"u\"]-new_test_1[\"i\"] \n",
    "new_test_1[\"u-z\"]=new_test_1[\"u\"]-new_test_1[\"z\"] \n",
    "new_test_1[\"g-r\"]=new_test_1[\"g\"]-new_test_1[\"r\"] \n",
    "new_test_1[\"g-i\"]=new_test_1[\"g\"]-new_test_1[\"i\"] \n",
    "new_test_1[\"g-z\"]=new_test_1[\"g\"]-new_test_1[\"z\"] \n",
    "new_test_1[\"r-i\"]=new_test_1[\"r\"]-new_test_1[\"i\"] \n",
    "new_test_1[\"r-z\"]=new_test_1[\"r\"]-new_test_1[\"z\"] \n",
    "new_test_1[\"i-z\"]=new_test_1[\"i\"]-new_test_1[\"z\"] \n",
    "new_test_1[\"(u-g)^2\"]=(new_test_1[\"u\"]-new_test_1[\"g\"])**2\n",
    "new_test_1[\"(u-r)^2\"]=(new_test_1[\"u\"]-new_test_1[\"r\"])**2 \n",
    "new_test_1[\"(u-i)^2\"]=(new_test_1[\"u\"]-new_test_1[\"i\"])**2\n",
    "new_test_1[\"(u-z)^2\"]=(new_test_1[\"u\"]-new_test_1[\"z\"])**2 \n",
    "new_test_1[\"(g-r)^2\"]=(new_test_1[\"g\"]-new_test_1[\"r\"])**2 \n",
    "new_test_1[\"(g-i)^2\"]=(new_test_1[\"g\"]-new_test_1[\"i\"])**2 \n",
    "new_test_1[\"(g-z)^2\"]=(new_test_1[\"g\"]-new_test_1[\"z\"])**2 \n",
    "new_test_1[\"(r-i)^2\"]=(new_test_1[\"r\"]-new_test_1[\"i\"])**2 \n",
    "new_test_1[\"(r-z)^2\"]=(new_test_1[\"r\"]-new_test_1[\"z\"])**2 \n",
    "new_test_1[\"(i-z)^2\"]=(new_test_1[\"i\"]-new_test_1[\"z\"])**2 "
   ]
  },
  {
   "cell_type": "code",
   "execution_count": 128,
   "metadata": {},
   "outputs": [],
   "source": [
    "new_test_1.to_csv(\"stimulated_catalog_1.csv\",index=False)"
   ]
  },
  {
   "cell_type": "markdown",
   "metadata": {},
   "source": [
    "stimulates test set 2"
   ]
  },
  {
   "cell_type": "code",
   "execution_count": null,
   "metadata": {},
   "outputs": [],
   "source": [
    "f2=pd.read_csv(\"errtest2.csv\")\n",
    "final_err_2=pd.merge(f1,f2,how=\"inner\",on=[\"plate\",\"mjd\",\"fiberid\"])\n",
    "final_err_2.drop(final_err_2[final_err_2['err_z_p']==-9999].index,inplace=True)\n",
    "final_err_2"
   ]
  },
  {
   "cell_type": "code",
   "execution_count": 137,
   "metadata": {},
   "outputs": [
    {
     "name": "stderr",
     "output_type": "stream",
     "text": [
      "/tmp/ipykernel_26723/2086021231.py:4: SettingWithCopyWarning: \n",
      "A value is trying to be set on a copy of a slice from a DataFrame\n",
      "\n",
      "See the caveats in the documentation: https://pandas.pydata.org/pandas-docs/stable/user_guide/indexing.html#returning-a-view-versus-a-copy\n",
      "  data_set1.drop(\"z_s\",axis=1,inplace=True)\n"
     ]
    }
   ],
   "source": [
    "file1=pd.read_csv(\"use_this_data.csv\")\n",
    "file1.drop([\"h_beta\",\"h_alpha\",\"OIII\",\"NII\",\"OII\"],axis=1,inplace=True) # dropping spectroscopic params.\n",
    "data_set1=file1[((file1['z_s']>0.2) & (file1['z_s']<0.25)) & ((file1['r']<25)&(file1['r']>15))]\n",
    "data_set1.drop(\"z_s\",axis=1,inplace=True)"
   ]
  },
  {
   "cell_type": "code",
   "execution_count": 150,
   "metadata": {},
   "outputs": [],
   "source": [
    "data_set1=data_set1[[\"plate\",\"mjd\",\"fiberid\",'u','g','r','i','z','z_p','metallicity','mass']]\n",
    "set1=pd.merge(data_set1,final_err_2,how=\"inner\",on=[\"plate\",\"mjd\",\"fiberid\"])\n",
    "test_1= set1.sample(frac = 0.0205)"
   ]
  },
  {
   "cell_type": "code",
   "execution_count": 152,
   "metadata": {},
   "outputs": [
    {
     "data": {
      "image/png": "[encoded data removed]",
      "text/plain": [
       "<Figure size 432x288 with 1 Axes>"
      ]
     },
     "metadata": {
      "needs_background": "light"
     },
     "output_type": "display_data"
    }
   ],
   "source": [
    "guass_x=[]\n",
    "for i,j in zip(['u','g','r','i','z','z_p','mass'],['err_u','err_g','err_r','err_i','err_z','err_z_p','err_mass']):\n",
    "   temp=[]\n",
    "   for k in range(100): \n",
    "       mu, sigma = test_1[i].iloc[k],test_1[j].iloc[k] # mean and standard deviation\n",
    "       s = np.random.normal(mu, sigma,1000)\n",
    "       count, bins, ignored = plt.hist(s, 100, density=True)\n",
    "       temp.append(bins[np.argmax(count)])\n",
    "   guass_x.append(temp)    "
   ]
  },
  {
   "cell_type": "code",
   "execution_count": 153,
   "metadata": {},
   "outputs": [],
   "source": [
    "new_test_2=pd.DataFrame(data={\"u\":guass_x[0],\"g\":guass_x[1],\"r\":guass_x[2],\"i\":guass_x[3],\"z\":guass_x[4],\"z_p\":guass_x[5],\"mass\":guass_x[6],'metallicity':test_1['metallicity']})"
   ]
  },
  {
   "cell_type": "code",
   "execution_count": 154,
   "metadata": {},
   "outputs": [],
   "source": [
    "new_test_2[\"u-g\"]=new_test_2[\"u\"]-new_test_2[\"g\"] \n",
    "new_test_2[\"u-r\"]=new_test_2[\"u\"]-new_test_2[\"r\"] \n",
    "new_test_2[\"u-i\"]=new_test_2[\"u\"]-new_test_2[\"i\"] \n",
    "new_test_2[\"u-z\"]=new_test_2[\"u\"]-new_test_2[\"z\"] \n",
    "new_test_2[\"g-r\"]=new_test_2[\"g\"]-new_test_2[\"r\"] \n",
    "new_test_2[\"g-i\"]=new_test_2[\"g\"]-new_test_2[\"i\"] \n",
    "new_test_2[\"g-z\"]=new_test_2[\"g\"]-new_test_2[\"z\"] \n",
    "new_test_2[\"r-i\"]=new_test_2[\"r\"]-new_test_2[\"i\"] \n",
    "new_test_2[\"r-z\"]=new_test_2[\"r\"]-new_test_2[\"z\"] \n",
    "new_test_2[\"i-z\"]=new_test_2[\"i\"]-new_test_2[\"z\"] \n",
    "new_test_2[\"(u-g)^2\"]=(new_test_2[\"u\"]-new_test_2[\"g\"])**2\n",
    "new_test_2[\"(u-r)^2\"]=(new_test_2[\"u\"]-new_test_2[\"r\"])**2 \n",
    "new_test_2[\"(u-i)^2\"]=(new_test_2[\"u\"]-new_test_2[\"i\"])**2\n",
    "new_test_2[\"(u-z)^2\"]=(new_test_2[\"u\"]-new_test_2[\"z\"])**2 \n",
    "new_test_2[\"(g-r)^2\"]=(new_test_2[\"g\"]-new_test_2[\"r\"])**2 \n",
    "new_test_2[\"(g-i)^2\"]=(new_test_2[\"g\"]-new_test_2[\"i\"])**2 \n",
    "new_test_2[\"(g-z)^2\"]=(new_test_2[\"g\"]-new_test_2[\"z\"])**2 \n",
    "new_test_2[\"(r-i)^2\"]=(new_test_2[\"r\"]-new_test_2[\"i\"])**2 \n",
    "new_test_2[\"(r-z)^2\"]=(new_test_2[\"r\"]-new_test_2[\"z\"])**2 \n",
    "new_test_2[\"(i-z)^2\"]=(new_test_2[\"i\"]-new_test_2[\"z\"])**2 "
   ]
  },
  {
   "cell_type": "code",
   "execution_count": 155,
   "metadata": {},
   "outputs": [],
   "source": [
    "new_test_2.to_csv(\"stimulated_catalog_2.csv\",index=False)"
   ]
  },
  {
   "cell_type": "code",
   "execution_count": null,
   "metadata": {},
   "outputs": [],
   "source": []
  }
 ],
 "metadata": {
  "kernelspec": {
   "display_name": "Python 3.10.4 64-bit",
   "language": "python",
   "name": "python3"
  },
  "language_info": {
   "codemirror_mode": {
    "name": "ipython",
    "version": 3
   },
   "file_extension": ".py",
   "mimetype": "text/x-python",
   "name": "python",
   "nbconvert_exporter": "python",
   "pygments_lexer": "ipython3",
   "version": "3.10.4"
  },
  "orig_nbformat": 4,
  "vscode": {
   "interpreter": {
    "hash": "916dbcbb3f70747c44a77c7bcd40155683ae19c65e1c03b4aa3499c5328201f1"
   }
  }
 },
 "nbformat": 4,
 "nbformat_minor": 2
}
