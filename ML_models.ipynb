{
 "cells": [
  {
   "cell_type": "markdown",
   "metadata": {},
   "source": [
    "# briefing"
   ]
  },
  {
   "cell_type": "code",
   "execution_count": 1,
   "metadata": {},
   "outputs": [
    {
     "name": "stdout",
     "output_type": "stream",
     "text": [
      " cleaning and processing of data.\n",
      " splitting data into two data set according to condition. \n",
      " MODELS USED: ridgeCV,random forest,Ada boost,extremely randomized treees,SVM. \n",
      " HYPERTUNING OF PARAMETERS: gridsearch CV and random searchCV on SVM and by visualising rsme graph for RidgeCV. \n",
      " NO. OF CROSS VALIDATIONS: 3 fold. \n",
      " OUTPUT GRAPHS: histogram. \n",
      " METRICS: rsme, R2 scores \n",
      " now removing outliers(>0.2 dex) and running again.\n",
      " Finally ranking the features according to their importance.\n"
     ]
    }
   ],
   "source": [
    "print(\" cleaning and processing of data.\\n splitting data into two data set according to condition. \\n MODELS USED: ridgeCV,random forest,Ada boost,extremely randomized treees,SVM. \\n HYPERTUNING OF PARAMETERS: gridsearch CV and random searchCV on SVM and by visualising rsme graph for RidgeCV. \\n NO. OF CROSS VALIDATIONS: 3 fold. \\n OUTPUT GRAPHS: histogram. \\n METRICS: rsme, R2 scores \\n now removing outliers(>0.2 dex) and running again.\\n Finally ranking the features according to their importance.\")\n",
    "# breif\n"
   ]
  },
  {
   "cell_type": "code",
   "execution_count": 2,
   "metadata": {},
   "outputs": [],
   "source": [
    "import pandas as pd\n",
    "import matplotlib.pyplot as plt\n",
    "import numpy as np\n",
    "import seaborn as sns\n",
    "import sklearn\n"
   ]
  },
  {
   "cell_type": "markdown",
   "metadata": {},
   "source": [
    "# cleaning and processing data"
   ]
  },
  {
   "cell_type": "code",
   "execution_count": 3,
   "metadata": {},
   "outputs": [
    {
     "data": {
      "text/plain": [
       "Index(['plate', 'mjd', 'fiberid', 'h_beta', 'h_alpha', 'u', 'g', 'r', 'i', 'z',\n",
       "       'err_r', 'c_u', 'c_g', 'c_r', 'c_i', 'c_z', 'extinction_u',\n",
       "       'extinction_g', 'extinction_r', 'extinction_i', 'extinction_z', 'z_p',\n",
       "       'z_s', 'zwarning', 'metallicity', 'mass', 'OII', 'OIII', 'NII', 'AGN'],\n",
       "      dtype='object')"
      ]
     },
     "execution_count": 3,
     "metadata": {},
     "output_type": "execute_result"
    }
   ],
   "source": [
    "raw_data=pd.read_csv(\"complete_rawdata.csv\")\n",
    "raw_data.columns"
   ]
  },
  {
   "cell_type": "markdown",
   "metadata": {},
   "source": [
    "c_u,c_g,c_r,c_i,c_z are \"C\" magnitudes and z_s is spectroscopic redshift and z_p is photometric redshift"
   ]
  },
  {
   "cell_type": "markdown",
   "metadata": {},
   "source": [
    "removing objects with AGN flag"
   ]
  },
  {
   "cell_type": "code",
   "execution_count": 4,
   "metadata": {},
   "outputs": [
    {
     "data": {
      "text/plain": [
       "166669"
      ]
     },
     "execution_count": 4,
     "metadata": {},
     "output_type": "execute_result"
    }
   ],
   "source": [
    "raw_data.drop(raw_data[raw_data[\"AGN\"]==1].index,inplace=True)\n",
    "len(raw_data)"
   ]
  },
  {
   "cell_type": "markdown",
   "metadata": {},
   "source": [
    "removing objects with redshift warning"
   ]
  },
  {
   "cell_type": "code",
   "execution_count": 5,
   "metadata": {},
   "outputs": [
    {
     "data": {
      "text/plain": [
       "166429"
      ]
     },
     "execution_count": 5,
     "metadata": {},
     "output_type": "execute_result"
    }
   ],
   "source": [
    "raw_data.drop(raw_data[(raw_data[\"zwarning\"]!=0)].index,inplace=True)\n",
    "len(raw_data)"
   ]
  },
  {
   "cell_type": "markdown",
   "metadata": {},
   "source": [
    "removing objects with error in r band magnitude > 0.15 (magnitude cut)"
   ]
  },
  {
   "cell_type": "code",
   "execution_count": 6,
   "metadata": {},
   "outputs": [
    {
     "data": {
      "text/plain": [
       "166246"
      ]
     },
     "execution_count": 6,
     "metadata": {},
     "output_type": "execute_result"
    }
   ],
   "source": [
    "raw_data.drop(raw_data[raw_data[\"err_r\"]>0.15].index,inplace=True)\n",
    "len(raw_data)"
   ]
  },
  {
   "cell_type": "markdown",
   "metadata": {},
   "source": [
    "dust correction"
   ]
  },
  {
   "cell_type": "code",
   "execution_count": 7,
   "metadata": {},
   "outputs": [],
   "source": [
    "raw_data[\"u\"]=raw_data[\"u\"]+raw_data[\"extinction_u\"] \n",
    "raw_data[\"g\"]=raw_data[\"g\"]+raw_data[\"extinction_g\"]                  \n",
    "raw_data[\"r\"]=raw_data[\"r\"]+raw_data[\"extinction_r\"]                  \n",
    "raw_data[\"i\"]=raw_data[\"i\"]+raw_data[\"extinction_i\"]                   \n",
    "raw_data[\"z\"]=raw_data[\"z\"]+raw_data[\"extinction_z\"]                                    "
   ]
  },
  {
   "cell_type": "markdown",
   "metadata": {},
   "source": [
    "adding colors"
   ]
  },
  {
   "cell_type": "code",
   "execution_count": 8,
   "metadata": {},
   "outputs": [],
   "source": [
    "raw_data[\"u-g\"]=raw_data[\"u\"]-raw_data[\"g\"] \n",
    "raw_data[\"u-r\"]=raw_data[\"u\"]-raw_data[\"r\"] \n",
    "raw_data[\"u-i\"]=raw_data[\"u\"]-raw_data[\"i\"] \n",
    "raw_data[\"u-z\"]=raw_data[\"u\"]-raw_data[\"z\"] \n",
    "raw_data[\"g-r\"]=raw_data[\"g\"]-raw_data[\"r\"] \n",
    "raw_data[\"g-i\"]=raw_data[\"g\"]-raw_data[\"i\"] \n",
    "raw_data[\"g-z\"]=raw_data[\"g\"]-raw_data[\"z\"] \n",
    "raw_data[\"r-i\"]=raw_data[\"r\"]-raw_data[\"i\"] \n",
    "raw_data[\"r-z\"]=raw_data[\"r\"]-raw_data[\"z\"] \n",
    "raw_data[\"i-z\"]=raw_data[\"i\"]-raw_data[\"z\"] \n",
    "raw_data[\"(u-g)^2\"]=(raw_data[\"u\"]-raw_data[\"g\"])**2\n",
    "raw_data[\"(u-r)^2\"]=(raw_data[\"u\"]-raw_data[\"r\"])**2 \n",
    "raw_data[\"(u-i)^2\"]=(raw_data[\"u\"]-raw_data[\"i\"])**2\n",
    "raw_data[\"(u-z)^2\"]=(raw_data[\"u\"]-raw_data[\"z\"])**2 \n",
    "raw_data[\"(g-r)^2\"]=(raw_data[\"g\"]-raw_data[\"r\"])**2 \n",
    "raw_data[\"(g-i)^2\"]=(raw_data[\"g\"]-raw_data[\"i\"])**2 \n",
    "raw_data[\"(g-z)^2\"]=(raw_data[\"g\"]-raw_data[\"z\"])**2 \n",
    "raw_data[\"(r-i)^2\"]=(raw_data[\"r\"]-raw_data[\"i\"])**2 \n",
    "raw_data[\"(r-z)^2\"]=(raw_data[\"r\"]-raw_data[\"z\"])**2 \n",
    "raw_data[\"(i-z)^2\"]=(raw_data[\"i\"]-raw_data[\"z\"])**2 \n",
    "\n",
    "raw_data.drop([\"err_r\",\"c_u\",\"c_g\",\"c_r\",\"c_i\",\"c_z\",\"extinction_u\",\"extinction_g\",\"extinction_r\",\"extinction_i\",\"extinction_z\",\"AGN\",\"zwarning\",\"plate\",\"mjd\",\"fiberid\"],axis=1,inplace=True)\n",
    "raw_data.to_csv(\"use_this_data.csv\",index=False)\n"
   ]
  },
  {
   "cell_type": "code",
   "execution_count": 9,
   "metadata": {},
   "outputs": [],
   "source": [
    "file1=pd.read_csv(\"use_this_data.csv\")\n",
    "file1.drop([\"h_beta\",\"h_alpha\",\"OIII\",\"NII\",\"OII\"],axis=1,inplace=True) # dropping spectroscopic params."
   ]
  },
  {
   "cell_type": "markdown",
   "metadata": {},
   "source": [
    "making two datasets as follows"
   ]
  },
  {
   "cell_type": "code",
   "execution_count": 10,
   "metadata": {},
   "outputs": [
    {
     "name": "stderr",
     "output_type": "stream",
     "text": [
      "C:\\Users\\Lenovo\\AppData\\Local\\Temp\\ipykernel_8424\\1138168453.py:2: SettingWithCopyWarning: \n",
      "A value is trying to be set on a copy of a slice from a DataFrame\n",
      "\n",
      "See the caveats in the documentation: https://pandas.pydata.org/pandas-docs/stable/user_guide/indexing.html#returning-a-view-versus-a-copy\n",
      "  data_set1.drop(\"z_s\",axis=1,inplace=True)\n",
      "C:\\Users\\Lenovo\\AppData\\Local\\Temp\\ipykernel_8424\\1138168453.py:5: SettingWithCopyWarning: \n",
      "A value is trying to be set on a copy of a slice from a DataFrame\n",
      "\n",
      "See the caveats in the documentation: https://pandas.pydata.org/pandas-docs/stable/user_guide/indexing.html#returning-a-view-versus-a-copy\n",
      "  data_set2.drop(\"z_s\",axis=1,inplace=True)\n"
     ]
    }
   ],
   "source": [
    "data_set1=file1[((file1['z_s']>0.09) & (file1['z_s']<0.12)) & (file1['r']<18)]\n",
    "data_set1.drop(\"z_s\",axis=1,inplace=True)\n",
    "\n",
    "data_set2=file1[((file1['z_s']>0.2) & (file1['z_s']<0.25)) & ((file1['r']<25)&(file1['r']>15))]\n",
    "data_set2.drop(\"z_s\",axis=1,inplace=True)\n"
   ]
  },
  {
   "cell_type": "code",
   "execution_count": 11,
   "metadata": {},
   "outputs": [],
   "source": [
    "X1 = data_set1.drop([\"metallicity\",\"mass\",\"z_p\"],axis=1)\n",
    "y1= data_set1[\"metallicity\"]\n",
    "\n",
    "X2 = data_set2.drop([\"metallicity\",\"mass\",\"z_p\"],axis=1)\n",
    "y2= data_set2[\"metallicity\"]"
   ]
  },
  {
   "cell_type": "code",
   "execution_count": 12,
   "metadata": {},
   "outputs": [],
   "source": [
    "from sklearn.model_selection import train_test_split\n",
    "from sklearn.metrics import mean_squared_error\n",
    "from sklearn.metrics import r2_score"
   ]
  },
  {
   "cell_type": "markdown",
   "metadata": {},
   "source": [
    "function to remove outliers (true-predict>0.2 dex)"
   ]
  },
  {
   "cell_type": "code",
   "execution_count": 13,
   "metadata": {},
   "outputs": [],
   "source": [
    "def remove_outliers(x_test,y_test,y_predict):\n",
    "    \n",
    "    y_predict_data=pd.DataFrame(y_predict,columns=[\"y_predict\"])\n",
    "    x_test.reset_index(inplace = True, drop = True)\n",
    "    y_test=pd.DataFrame(y_test)\n",
    "    y_test.reset_index(inplace=True,drop=True)\n",
    "    frame = pd.concat([x_test,y_test,y_predict_data], axis=1)\n",
    "    frame.drop(frame[((frame['metallicity']-frame['y_predict'])**2 )>0.04 ].index,inplace=True)\n",
    "    x_test_no_outliers=frame.drop([\"y_predict\",\"metallicity\"],axis=1)\n",
    "    y_test_no_outliers=frame[\"metallicity\"]\n",
    "    \n",
    "    return x_test_no_outliers,y_test_no_outliers\n"
   ]
  },
  {
   "cell_type": "markdown",
   "metadata": {},
   "source": [
    "function to print rsme,r2,olf(fraction of outlier)"
   ]
  },
  {
   "cell_type": "code",
   "execution_count": 14,
   "metadata": {},
   "outputs": [],
   "source": [
    "def metrics(y_test,y_test_no_outliers,y_predict_no_outliers):\n",
    "    print(\"rmse value:\",mean_squared_error(y_test_no_outliers,y_predict_no_outliers)**0.5)\n",
    "    print(\"r2 score:\",r2_score(y_test_no_outliers,y_predict_no_outliers))\n",
    "    print(\"OLF:\",1-(len(y_test_no_outliers)/len(y_test)))"
   ]
  },
  {
   "cell_type": "markdown",
   "metadata": {},
   "source": [
    "function to make plot and metrics"
   ]
  },
  {
   "cell_type": "code",
   "execution_count": 15,
   "metadata": {},
   "outputs": [],
   "source": [
    "def plot_and_metrics(y_test,y_predict):\n",
    "    plt.hist(y_predict,bins=35,color='green',alpha=0.5,label=\"predicted\")\n",
    "    plt.hist(y_test,bins=35,color='blue',alpha=0.5,label=\"true\")\n",
    "    plt.xlim(xmin=8.4,xmax=9.4)\n",
    "    plt.ylim(ymin=0,ymax=1200)\n",
    "    plt.ylabel('no. of galaxies')\n",
    "    plt.xlabel('metallicity')\n",
    "    plt.legend()\n",
    "    plt.show()\n",
    "    print(\"rmse value:\",(mean_squared_error(y_test,y_predict))**0.5)\n",
    "    print(\"r2 score:\",r2_score(y_test,y_predict))"
   ]
  },
  {
   "cell_type": "markdown",
   "metadata": {},
   "source": [
    "# ridgeCV"
   ]
  },
  {
   "cell_type": "code",
   "execution_count": 16,
   "metadata": {},
   "outputs": [],
   "source": [
    "from sklearn.linear_model import RidgeCV"
   ]
  },
  {
   "cell_type": "markdown",
   "metadata": {},
   "source": [
    "for data set 1"
   ]
  },
  {
   "cell_type": "code",
   "execution_count": 17,
   "metadata": {},
   "outputs": [],
   "source": [
    "\n",
    "x_train,x_test,y_train,y_test = train_test_split(X1,y1,test_size=0.2,random_state=1)"
   ]
  },
  {
   "cell_type": "markdown",
   "metadata": {},
   "source": [
    "graphical method for getting best parameter"
   ]
  },
  {
   "cell_type": "code",
   "execution_count": 18,
   "metadata": {},
   "outputs": [
    {
     "data": {
      "image/png": "[encoded data removed]",
      "text/plain": [
       "<Figure size 432x288 with 1 Axes>"
      ]
     },
     "metadata": {
      "needs_background": "light"
     },
     "output_type": "display_data"
    }
   ],
   "source": [
    "\n",
    "alphas=np.arange(0.01,2000,5)\n",
    "error=[]\n",
    "for alpha in alphas :\n",
    "    clf = RidgeCV(alphas=[alpha])\n",
    "    clf.fit(x_train,y_train)\n",
    "    error.append((mean_squared_error(y_test,clf.predict(x_test)))**0.5)\n",
    "    \n",
    "\n",
    "from matplotlib.legend_handler import HandlerLine2D\n",
    "line=plt.plot(alphas,error)\n",
    "plt.ylabel('root_mean squared error')\n",
    "plt.xlabel('alphas')\n",
    "plt.show()\n"
   ]
  },
  {
   "cell_type": "markdown",
   "metadata": {},
   "source": [
    "so we can see that best value of alphas are low (range is 0.1 to 10 according to paper)"
   ]
  },
  {
   "cell_type": "code",
   "execution_count": 19,
   "metadata": {},
   "outputs": [
    {
     "name": "stdout",
     "output_type": "stream",
     "text": [
      "CPU times: total: 46.9 ms\n",
      "Wall time: 60.8 ms\n"
     ]
    }
   ],
   "source": [
    "rcv = RidgeCV(alphas=[0.1,1,10]) \n",
    "%time rcv.fit(x_train,y_train)\n",
    "y_predict=rcv.predict(x_test)"
   ]
  },
  {
   "cell_type": "markdown",
   "metadata": {},
   "source": [
    "output"
   ]
  },
  {
   "cell_type": "code",
   "execution_count": 20,
   "metadata": {},
   "outputs": [
    {
     "data": {
      "image/png": "[encoded data removed]",
      "text/plain": [
       "<Figure size 432x288 with 1 Axes>"
      ]
     },
     "metadata": {
      "needs_background": "light"
     },
     "output_type": "display_data"
    },
    {
     "name": "stdout",
     "output_type": "stream",
     "text": [
      "rmse value: 0.08834290311862945\n",
      "r2 score: 0.4086416425869639\n"
     ]
    }
   ],
   "source": [
    "plot_and_metrics(y_test,y_predict)"
   ]
  },
  {
   "cell_type": "markdown",
   "metadata": {},
   "source": [
    "removing outliers(>0.2 dex) from a data frame of predicted and test data"
   ]
  },
  {
   "cell_type": "code",
   "execution_count": 21,
   "metadata": {},
   "outputs": [
    {
     "name": "stdout",
     "output_type": "stream",
     "text": [
      "rmse value: 0.07237117837338249\n",
      "r2 score: 0.5065893126278543\n",
      "OLF: 0.029424040066778012\n"
     ]
    }
   ],
   "source": [
    "x_test_no_outliers,y_test_no_outliers=remove_outliers(x_test,y_test,y_predict)\n",
    "y_predict_no_outliers=rcv.predict(x_test_no_outliers)\n",
    "metrics(y_test,y_test_no_outliers,y_predict_no_outliers)"
   ]
  },
  {
   "cell_type": "markdown",
   "metadata": {},
   "source": [
    "x--------------x"
   ]
  },
  {
   "cell_type": "markdown",
   "metadata": {},
   "source": [
    "for data set 2"
   ]
  },
  {
   "cell_type": "code",
   "execution_count": 22,
   "metadata": {},
   "outputs": [],
   "source": [
    "x_train,x_test,y_train,y_test = train_test_split(X2,y2,test_size=0.2,random_state=1)"
   ]
  },
  {
   "cell_type": "markdown",
   "metadata": {},
   "source": [
    "graphical method for best parameter"
   ]
  },
  {
   "cell_type": "code",
   "execution_count": 23,
   "metadata": {},
   "outputs": [
    {
     "data": {
      "image/png": "[encoded data removed]",
      "text/plain": [
       "<Figure size 432x288 with 1 Axes>"
      ]
     },
     "metadata": {
      "needs_background": "light"
     },
     "output_type": "display_data"
    }
   ],
   "source": [
    "from sklearn.metrics import mean_squared_error\n",
    "from sklearn.metrics import r2_score\n",
    "from sklearn.linear_model import RidgeCV\n",
    "\n",
    "alphas=np.arange(0.01,2000,5)\n",
    "error=[]\n",
    "for alpha in alphas :\n",
    "    clf = RidgeCV(alphas=[alpha])\n",
    "    clf.fit(x_train,y_train)\n",
    "    error.append((mean_squared_error(y_test,clf.predict(x_test)))**0.5)\n",
    "    \n",
    "\n",
    "from matplotlib.legend_handler import HandlerLine2D\n",
    "line=plt.plot(alphas,error)\n",
    "plt.ylabel('root_mean squared error')\n",
    "plt.xlabel('alphas')\n",
    "plt.show()"
   ]
  },
  {
   "cell_type": "markdown",
   "metadata": {},
   "source": [
    "therefore low values of alphas are used (10 acc. to paper)"
   ]
  },
  {
   "cell_type": "code",
   "execution_count": 24,
   "metadata": {},
   "outputs": [
    {
     "name": "stdout",
     "output_type": "stream",
     "text": [
      "CPU times: total: 0 ns\n",
      "Wall time: 15 ms\n"
     ]
    }
   ],
   "source": [
    "rcv = RidgeCV(alphas=[0.1,1,10]) \n",
    "%time rcv.fit(x_train,y_train)\n",
    "y_predict=rcv.predict(x_test)"
   ]
  },
  {
   "cell_type": "markdown",
   "metadata": {},
   "source": [
    "output"
   ]
  },
  {
   "cell_type": "code",
   "execution_count": 25,
   "metadata": {},
   "outputs": [
    {
     "data": {
      "image/png": "[encoded data removed]",
      "text/plain": [
       "<Figure size 432x288 with 1 Axes>"
      ]
     },
     "metadata": {
      "needs_background": "light"
     },
     "output_type": "display_data"
    },
    {
     "name": "stdout",
     "output_type": "stream",
     "text": [
      "rmse value: 0.12003873752601613\n",
      "r2 score: 0.5810810668383649\n"
     ]
    }
   ],
   "source": [
    "plot_and_metrics(y_test,y_predict)"
   ]
  },
  {
   "cell_type": "markdown",
   "metadata": {},
   "source": [
    "removing outliers(>0.2 dex) from a data frame of predicted and test data"
   ]
  },
  {
   "cell_type": "code",
   "execution_count": 26,
   "metadata": {},
   "outputs": [
    {
     "name": "stdout",
     "output_type": "stream",
     "text": [
      "rmse value: 0.08420550459977734\n",
      "r2 score: 0.6839793216896672\n",
      "OLF: 0.078974358974359\n"
     ]
    }
   ],
   "source": [
    "x_test_no_outliers,y_test_no_outliers=remove_outliers(x_test,y_test,y_predict)\n",
    "y_predict_no_outliers=rcv.predict(x_test_no_outliers)\n",
    "metrics(y_test,y_test_no_outliers,y_predict_no_outliers)"
   ]
  },
  {
   "cell_type": "markdown",
   "metadata": {},
   "source": [
    "# randomforest"
   ]
  },
  {
   "cell_type": "markdown",
   "metadata": {},
   "source": [
    "for data set 1"
   ]
  },
  {
   "cell_type": "code",
   "execution_count": 27,
   "metadata": {},
   "outputs": [],
   "source": [
    "x_train,x_test,y_train,y_test = train_test_split(X1,y1,test_size=0.2,random_state=1)"
   ]
  },
  {
   "cell_type": "code",
   "execution_count": 28,
   "metadata": {},
   "outputs": [],
   "source": [
    "from sklearn.ensemble import RandomForestRegressor\n",
    "from sklearn.model_selection import GridSearchCV"
   ]
  },
  {
   "cell_type": "markdown",
   "metadata": {},
   "source": [
    "grid search for best parameters"
   ]
  },
  {
   "cell_type": "code",
   "execution_count": 57,
   "metadata": {},
   "outputs": [
    {
     "name": "stdout",
     "output_type": "stream",
     "text": [
      "{'min_samples_leaf': 8, 'min_samples_split': 2, 'n_estimators': 40}\n"
     ]
    }
   ],
   "source": [
    "param_grid={\n",
    "    'n_estimators':[10,20,40],\n",
    "    'min_samples_split':[2,4,6,8],\n",
    "    'min_samples_leaf':[2,4,6,8]\n",
    "}\n",
    "CV_rfr = GridSearchCV(estimator=RandomForestRegressor(), param_grid=param_grid, cv=3,n_jobs=-1)\n",
    "CV_rfr.fit(x_train, y_train)\n",
    "print(CV_rfr.best_params_)\n"
   ]
  },
  {
   "cell_type": "code",
   "execution_count": 29,
   "metadata": {},
   "outputs": [
    {
     "name": "stdout",
     "output_type": "stream",
     "text": [
      "CPU times: total: 13.8 s\n",
      "Wall time: 14 s\n"
     ]
    }
   ],
   "source": [
    "rfr=RandomForestRegressor(n_estimators=40,min_samples_leaf=8,min_samples_split=2)\n",
    "%time rfr.fit(x_train,y_train)\n",
    "y_predict=rfr.predict(x_test)"
   ]
  },
  {
   "cell_type": "markdown",
   "metadata": {},
   "source": [
    "output"
   ]
  },
  {
   "cell_type": "code",
   "execution_count": 30,
   "metadata": {},
   "outputs": [
    {
     "data": {
      "image/png": "[encoded data removed]",
      "text/plain": [
       "<Figure size 432x288 with 1 Axes>"
      ]
     },
     "metadata": {
      "needs_background": "light"
     },
     "output_type": "display_data"
    },
    {
     "name": "stdout",
     "output_type": "stream",
     "text": [
      "rmse value: 0.08112533029614172\n",
      "r2 score: 0.501321825399105\n"
     ]
    }
   ],
   "source": [
    "plot_and_metrics(y_test,y_predict)"
   ]
  },
  {
   "cell_type": "markdown",
   "metadata": {},
   "source": [
    "removing outliers(>0.2 dex) from a data frame of predicted and test data"
   ]
  },
  {
   "cell_type": "code",
   "execution_count": 31,
   "metadata": {},
   "outputs": [
    {
     "name": "stdout",
     "output_type": "stream",
     "text": [
      "rmse value: 0.06949348356132704\n",
      "r2 score: 0.570179368849602\n",
      "OLF: 0.025876460767946585\n"
     ]
    }
   ],
   "source": [
    "x_test_no_outliers,y_test_no_outliers=remove_outliers(x_test,y_test,y_predict)\n",
    "y_predict_no_outliers=rfr.predict(x_test_no_outliers)\n",
    "metrics(y_test,y_test_no_outliers,y_predict_no_outliers)\n"
   ]
  },
  {
   "cell_type": "markdown",
   "metadata": {},
   "source": [
    "x------------------x"
   ]
  },
  {
   "cell_type": "markdown",
   "metadata": {},
   "source": [
    "for data set 2"
   ]
  },
  {
   "cell_type": "code",
   "execution_count": 32,
   "metadata": {},
   "outputs": [],
   "source": [
    "x_train,x_test,y_train,y_test = train_test_split(X2,y2,test_size=0.2,random_state=1)"
   ]
  },
  {
   "cell_type": "code",
   "execution_count": 219,
   "metadata": {},
   "outputs": [
    {
     "name": "stdout",
     "output_type": "stream",
     "text": [
      "{'min_samples_leaf': 8, 'min_samples_split': 2, 'n_estimators': 40}\n"
     ]
    }
   ],
   "source": [
    "param_grid={\n",
    "    'n_estimators':[10,20,40],\n",
    "    'min_samples_split':[2,4,6,8],\n",
    "    'min_samples_leaf':[2,4,6,8]\n",
    "}\n",
    "CV_rfr = GridSearchCV(estimator=RandomForestRegressor(), param_grid=param_grid, cv=3,n_jobs=-1)\n",
    "CV_rfr.fit(x_train, y_train)\n",
    "print(CV_rfr.best_params_)"
   ]
  },
  {
   "cell_type": "code",
   "execution_count": 33,
   "metadata": {},
   "outputs": [
    {
     "name": "stdout",
     "output_type": "stream",
     "text": [
      "CPU times: total: 1.89 s\n",
      "Wall time: 1.93 s\n"
     ]
    }
   ],
   "source": [
    "rfr=RandomForestRegressor(n_estimators=40,min_samples_leaf=8,min_samples_split=2)\n",
    "%time rfr.fit(x_train,y_train)\n",
    "y_predict=rfr.predict(x_test)"
   ]
  },
  {
   "cell_type": "markdown",
   "metadata": {},
   "source": [
    "output"
   ]
  },
  {
   "cell_type": "code",
   "execution_count": 34,
   "metadata": {},
   "outputs": [
    {
     "data": {
      "image/png": "[encoded data removed]",
      "text/plain": [
       "<Figure size 432x288 with 1 Axes>"
      ]
     },
     "metadata": {
      "needs_background": "light"
     },
     "output_type": "display_data"
    },
    {
     "name": "stdout",
     "output_type": "stream",
     "text": [
      "rmse value: 0.11230817689997982\n",
      "r2 score: 0.6333008483370082\n"
     ]
    }
   ],
   "source": [
    "plot_and_metrics(y_test,y_predict)"
   ]
  },
  {
   "cell_type": "markdown",
   "metadata": {},
   "source": [
    "removing outliers(>0.2 dex) from a data frame of predicted and test data"
   ]
  },
  {
   "cell_type": "code",
   "execution_count": 35,
   "metadata": {},
   "outputs": [
    {
     "name": "stdout",
     "output_type": "stream",
     "text": [
      "rmse value: 0.07856279201007929\n",
      "r2 score: 0.7443191766366709\n",
      "OLF: 0.06666666666666665\n"
     ]
    }
   ],
   "source": [
    "x_test_no_outliers,y_test_no_outliers=remove_outliers(x_test,y_test,y_predict)\n",
    "y_predict_no_outliers=rfr.predict(x_test_no_outliers)\n",
    "metrics(y_test,y_test_no_outliers,y_predict_no_outliers)"
   ]
  },
  {
   "cell_type": "markdown",
   "metadata": {},
   "source": [
    "# Extremely randomized Trees"
   ]
  },
  {
   "cell_type": "markdown",
   "metadata": {},
   "source": [
    "for data set 1"
   ]
  },
  {
   "cell_type": "code",
   "execution_count": 41,
   "metadata": {},
   "outputs": [],
   "source": [
    "x_train,x_test,y_train,y_test = train_test_split(X1,y1,test_size=0.2,random_state=1)"
   ]
  },
  {
   "cell_type": "code",
   "execution_count": 42,
   "metadata": {},
   "outputs": [],
   "source": [
    "from sklearn.ensemble import ExtraTreesRegressor\n",
    "from sklearn.model_selection import GridSearchCV"
   ]
  },
  {
   "cell_type": "code",
   "execution_count": 230,
   "metadata": {},
   "outputs": [
    {
     "name": "stdout",
     "output_type": "stream",
     "text": [
      "{'min_samples_leaf': 8, 'min_samples_split': 8, 'n_estimators': 100}\n"
     ]
    }
   ],
   "source": [
    "param_grid={\n",
    "    'n_estimators':[10,50,100],\n",
    "    'min_samples_split':[2,4,6,8],\n",
    "    'min_samples_leaf':[2,4,6,8]\n",
    "}\n",
    "CV_etr = GridSearchCV(estimator=ExtraTreesRegressor(), param_grid=param_grid, cv=3,n_jobs=-1)\n",
    "CV_etr.fit(x_train, y_train)\n",
    "print(CV_etr.best_params_)"
   ]
  },
  {
   "cell_type": "code",
   "execution_count": 43,
   "metadata": {},
   "outputs": [
    {
     "name": "stdout",
     "output_type": "stream",
     "text": [
      "CPU times: total: 5.58 s\n",
      "Wall time: 5.67 s\n"
     ]
    }
   ],
   "source": [
    "etr=ExtraTreesRegressor(n_estimators=100,min_samples_leaf=8,min_samples_split=8)\n",
    "%time etr.fit(x_train,y_train)\n",
    "y_predict=etr.predict(x_test)"
   ]
  },
  {
   "cell_type": "markdown",
   "metadata": {},
   "source": [
    "output"
   ]
  },
  {
   "cell_type": "code",
   "execution_count": 44,
   "metadata": {},
   "outputs": [
    {
     "data": {
      "image/png": "[encoded data removed]",
      "text/plain": [
       "<Figure size 432x288 with 1 Axes>"
      ]
     },
     "metadata": {
      "needs_background": "light"
     },
     "output_type": "display_data"
    },
    {
     "name": "stdout",
     "output_type": "stream",
     "text": [
      "rmse value: 0.08040224706782248\n",
      "r2 score: 0.5101718071027367\n"
     ]
    }
   ],
   "source": [
    "plot_and_metrics(y_test,y_predict)"
   ]
  },
  {
   "cell_type": "markdown",
   "metadata": {},
   "source": [
    "removing outliers from test data frame"
   ]
  },
  {
   "cell_type": "code",
   "execution_count": 45,
   "metadata": {},
   "outputs": [
    {
     "name": "stdout",
     "output_type": "stream",
     "text": [
      "rmse value: 0.06906110700758283\n",
      "r2 score: 0.5729665476772617\n",
      "OLF: 0.023998330550918157\n"
     ]
    }
   ],
   "source": [
    "x_test_no_outliers,y_test_no_outliers=remove_outliers(x_test,y_test,y_predict)\n",
    "y_predict_no_outliers=etr.predict(x_test_no_outliers)\n",
    "metrics(y_test,y_test_no_outliers,y_predict_no_outliers)\n"
   ]
  },
  {
   "cell_type": "markdown",
   "metadata": {},
   "source": [
    "x----------------x"
   ]
  },
  {
   "cell_type": "markdown",
   "metadata": {},
   "source": [
    "for data set 2"
   ]
  },
  {
   "cell_type": "code",
   "execution_count": 46,
   "metadata": {},
   "outputs": [],
   "source": [
    "x_train,x_test,y_train,y_test = train_test_split(X2,y2,test_size=0.2,random_state=1)"
   ]
  },
  {
   "cell_type": "code",
   "execution_count": 267,
   "metadata": {},
   "outputs": [
    {
     "name": "stdout",
     "output_type": "stream",
     "text": [
      "{'min_samples_leaf': 8, 'min_samples_split': 2, 'n_estimators': 50}\n"
     ]
    }
   ],
   "source": [
    "param_grid={\n",
    "    'n_estimators':[10,50,100],\n",
    "    'min_samples_split':[2,4,6,8],\n",
    "    'min_samples_leaf':[2,4,6,8]\n",
    "}\n",
    "CV_etr = GridSearchCV(estimator=ExtraTreesRegressor(), param_grid=param_grid, cv=3,n_jobs=-1)\n",
    "CV_etr.fit(x_train, y_train)\n",
    "print(CV_etr.best_params_)"
   ]
  },
  {
   "cell_type": "code",
   "execution_count": 47,
   "metadata": {},
   "outputs": [
    {
     "name": "stdout",
     "output_type": "stream",
     "text": [
      "CPU times: total: 609 ms\n",
      "Wall time: 614 ms\n"
     ]
    }
   ],
   "source": [
    "etr=ExtraTreesRegressor(n_estimators=50,min_samples_leaf=4,min_samples_split=4)\n",
    "%time etr.fit(x_train,y_train)\n",
    "y_predict=etr.predict(x_test)"
   ]
  },
  {
   "cell_type": "markdown",
   "metadata": {},
   "source": [
    "output"
   ]
  },
  {
   "cell_type": "code",
   "execution_count": 48,
   "metadata": {},
   "outputs": [
    {
     "data": {
      "image/png": "[encoded data removed]",
      "text/plain": [
       "<Figure size 432x288 with 1 Axes>"
      ]
     },
     "metadata": {
      "needs_background": "light"
     },
     "output_type": "display_data"
    },
    {
     "name": "stdout",
     "output_type": "stream",
     "text": [
      "rmse value: 0.10481497972193239\n",
      "r2 score: 0.6806007737232399\n"
     ]
    }
   ],
   "source": [
    "plot_and_metrics(y_test,y_predict)"
   ]
  },
  {
   "cell_type": "markdown",
   "metadata": {},
   "source": [
    "removing outliers from test data frame"
   ]
  },
  {
   "cell_type": "code",
   "execution_count": 49,
   "metadata": {},
   "outputs": [
    {
     "name": "stdout",
     "output_type": "stream",
     "text": [
      "rmse value: 0.07740344670965438\n",
      "r2 score: 0.7583836042438326\n",
      "OLF: 0.06153846153846154\n"
     ]
    }
   ],
   "source": [
    "x_test_no_outliers,y_test_no_outliers=remove_outliers(x_test,y_test,y_predict)\n",
    "y_predict_no_outliers=etr.predict(x_test_no_outliers)\n",
    "metrics(y_test,y_test_no_outliers,y_predict_no_outliers)"
   ]
  },
  {
   "cell_type": "markdown",
   "metadata": {},
   "source": [
    "# Adaboost"
   ]
  },
  {
   "cell_type": "markdown",
   "metadata": {},
   "source": [
    "for data set 1"
   ]
  },
  {
   "cell_type": "code",
   "execution_count": 50,
   "metadata": {},
   "outputs": [],
   "source": [
    "x_train,x_test,y_train,y_test = train_test_split(X1,y1,test_size=0.2,random_state=1)"
   ]
  },
  {
   "cell_type": "code",
   "execution_count": 51,
   "metadata": {},
   "outputs": [],
   "source": [
    "from sklearn.ensemble import AdaBoostRegressor\n",
    "from sklearn.model_selection import GridSearchCV\n",
    "from sklearn.tree import DecisionTreeRegressor"
   ]
  },
  {
   "cell_type": "code",
   "execution_count": 25,
   "metadata": {},
   "outputs": [
    {
     "name": "stderr",
     "output_type": "stream",
     "text": [
      "c:\\Users\\Lenovo\\AppData\\Local\\Programs\\Python\\Python310\\lib\\site-packages\\sklearn\\model_selection\\_validation.py:372: FitFailedWarning: \n",
      "54 fits failed out of a total of 162.\n",
      "The score on these train-test partitions for these parameters will be set to nan.\n",
      "If these failures are not expected, you can try to debug them by setting error_score='raise'.\n",
      "\n",
      "Below are more details about the failures:\n",
      "--------------------------------------------------------------------------------\n",
      "54 fits failed with the following error:\n",
      "Traceback (most recent call last):\n",
      "  File \"c:\\Users\\Lenovo\\AppData\\Local\\Programs\\Python\\Python310\\lib\\site-packages\\sklearn\\model_selection\\_validation.py\", line 680, in _fit_and_score\n",
      "    estimator.fit(X_train, y_train, **fit_params)\n",
      "  File \"c:\\Users\\Lenovo\\AppData\\Local\\Programs\\Python\\Python310\\lib\\site-packages\\sklearn\\ensemble\\_weight_boosting.py\", line 1062, in fit\n",
      "    raise ValueError(\"loss must be 'linear', 'square', or 'exponential'\")\n",
      "ValueError: loss must be 'linear', 'square', or 'exponential'\n",
      "\n",
      "  warnings.warn(some_fits_failed_message, FitFailedWarning)\n",
      "c:\\Users\\Lenovo\\AppData\\Local\\Programs\\Python\\Python310\\lib\\site-packages\\sklearn\\model_selection\\_search.py:969: UserWarning: One or more of the test scores are non-finite: [ 0.11102216 -0.01640498 -0.0129341   0.06571217  0.07833591  0.06433506\n",
      "         nan         nan         nan  0.22939841 -0.3271318  -0.49790364\n",
      "  0.11072433 -0.85474765 -0.84828158         nan         nan         nan\n",
      "  0.30059254 -0.00734162 -0.1831771   0.24990808 -0.0893751  -0.18156317\n",
      "         nan         nan         nan  0.39588668  0.28448382  0.22526557\n",
      "  0.3880877   0.21449329  0.20904149         nan         nan         nan\n",
      "  0.43853604  0.40473883  0.38078979  0.4245114   0.38855071  0.37761787\n",
      "         nan         nan         nan  0.44663606  0.44424319  0.44225873\n",
      "  0.44076714  0.43731429  0.44034861         nan         nan         nan]\n",
      "  warnings.warn(\n"
     ]
    },
    {
     "name": "stdout",
     "output_type": "stream",
     "text": [
      "{'base_estimator': DecisionTreeRegressor(max_depth=10), 'loss': 'linear', 'n_estimators': 10}\n"
     ]
    }
   ],
   "source": [
    "param_grid={\n",
    "    'n_estimators':[10,50,100],\n",
    "    'loss':['linear','square','exp'],\n",
    "    'base_estimator':[DecisionTreeRegressor(max_depth=1),DecisionTreeRegressor(max_depth=2),DecisionTreeRegressor(max_depth=4),DecisionTreeRegressor(max_depth=6),DecisionTreeRegressor(max_depth=8),DecisionTreeRegressor(max_depth=10)]\n",
    "}\n",
    "CV_etr = GridSearchCV(estimator=AdaBoostRegressor(), param_grid=param_grid, cv=3,n_jobs=-1)\n",
    "CV_etr.fit(x_train, y_train)\n",
    "print(CV_etr.best_params_)"
   ]
  },
  {
   "cell_type": "code",
   "execution_count": 52,
   "metadata": {},
   "outputs": [
    {
     "name": "stdout",
     "output_type": "stream",
     "text": [
      "CPU times: total: 4 s\n",
      "Wall time: 4.17 s\n"
     ]
    }
   ],
   "source": [
    "ada=AdaBoostRegressor(n_estimators=10 ,loss='linear',base_estimator=(DecisionTreeRegressor(max_depth=10)) )\n",
    "%time ada.fit(x_train,y_train)\n",
    "y_predict=ada.predict(x_test)"
   ]
  },
  {
   "cell_type": "markdown",
   "metadata": {},
   "source": [
    "output"
   ]
  },
  {
   "cell_type": "code",
   "execution_count": 53,
   "metadata": {},
   "outputs": [
    {
     "data": {
      "image/png": "[encoded data removed]",
      "text/plain": [
       "<Figure size 432x288 with 1 Axes>"
      ]
     },
     "metadata": {
      "needs_background": "light"
     },
     "output_type": "display_data"
    },
    {
     "name": "stdout",
     "output_type": "stream",
     "text": [
      "rmse value: 0.08242786067329576\n",
      "r2 score: 0.48517993897051126\n"
     ]
    }
   ],
   "source": [
    "plot_and_metrics(y_test,y_predict)"
   ]
  },
  {
   "cell_type": "markdown",
   "metadata": {},
   "source": [
    "removing outliers(>0.2 dex)"
   ]
  },
  {
   "cell_type": "code",
   "execution_count": 54,
   "metadata": {},
   "outputs": [
    {
     "name": "stdout",
     "output_type": "stream",
     "text": [
      "rmse value: 0.07135398096687381\n",
      "r2 score: 0.5476514491150741\n",
      "OLF: 0.024207011686143587\n"
     ]
    }
   ],
   "source": [
    "x_test_no_outliers,y_test_no_outliers=remove_outliers(x_test,y_test,y_predict)\n",
    "y_predict_no_outliers=ada.predict(x_test_no_outliers)\n",
    "metrics(y_test,y_test_no_outliers,y_predict_no_outliers)"
   ]
  },
  {
   "cell_type": "markdown",
   "metadata": {},
   "source": [
    "x-------------------x"
   ]
  },
  {
   "cell_type": "markdown",
   "metadata": {},
   "source": [
    "for data set 2"
   ]
  },
  {
   "cell_type": "code",
   "execution_count": 55,
   "metadata": {},
   "outputs": [],
   "source": [
    "x_train,x_test,y_train,y_test = train_test_split(X2,y2,test_size=0.2,random_state=1)"
   ]
  },
  {
   "cell_type": "code",
   "execution_count": 38,
   "metadata": {},
   "outputs": [
    {
     "name": "stderr",
     "output_type": "stream",
     "text": [
      "c:\\Users\\Lenovo\\AppData\\Local\\Programs\\Python\\Python310\\lib\\site-packages\\sklearn\\model_selection\\_validation.py:372: FitFailedWarning: \n",
      "54 fits failed out of a total of 162.\n",
      "The score on these train-test partitions for these parameters will be set to nan.\n",
      "If these failures are not expected, you can try to debug them by setting error_score='raise'.\n",
      "\n",
      "Below are more details about the failures:\n",
      "--------------------------------------------------------------------------------\n",
      "54 fits failed with the following error:\n",
      "Traceback (most recent call last):\n",
      "  File \"c:\\Users\\Lenovo\\AppData\\Local\\Programs\\Python\\Python310\\lib\\site-packages\\sklearn\\model_selection\\_validation.py\", line 680, in _fit_and_score\n",
      "    estimator.fit(X_train, y_train, **fit_params)\n",
      "  File \"c:\\Users\\Lenovo\\AppData\\Local\\Programs\\Python\\Python310\\lib\\site-packages\\sklearn\\ensemble\\_weight_boosting.py\", line 1062, in fit\n",
      "    raise ValueError(\"loss must be 'linear', 'square', or 'exponential'\")\n",
      "ValueError: loss must be 'linear', 'square', or 'exponential'\n",
      "\n",
      "  warnings.warn(some_fits_failed_message, FitFailedWarning)\n",
      "c:\\Users\\Lenovo\\AppData\\Local\\Programs\\Python\\Python310\\lib\\site-packages\\sklearn\\model_selection\\_search.py:969: UserWarning: One or more of the test scores are non-finite: [0.30492083 0.31420983 0.30422648 0.30696873 0.31601703 0.2641469\n",
      "        nan        nan        nan 0.47971596 0.40356733 0.34906162\n",
      " 0.45867991 0.32710296 0.1897646         nan        nan        nan\n",
      " 0.58288128 0.58202732 0.5756816  0.57651415 0.57753069 0.58124028\n",
      "        nan        nan        nan 0.60772885 0.61217384 0.610508\n",
      " 0.60578362 0.61271661 0.60749817        nan        nan        nan\n",
      " 0.59836789 0.61491895 0.61167109 0.6030881  0.62069048 0.61260211\n",
      "        nan        nan        nan 0.58770132 0.61259314 0.60634789\n",
      " 0.58830611 0.61318518 0.61239114        nan        nan        nan]\n",
      "  warnings.warn(\n"
     ]
    },
    {
     "name": "stdout",
     "output_type": "stream",
     "text": [
      "{'base_estimator': DecisionTreeRegressor(max_depth=8), 'loss': 'square', 'n_estimators': 50}\n"
     ]
    }
   ],
   "source": [
    "param_grid={\n",
    "    'n_estimators':[10,50,100],\n",
    "    'loss':['linear','square','exp'],\n",
    "    'base_estimator':[DecisionTreeRegressor(max_depth=1),DecisionTreeRegressor(max_depth=2),DecisionTreeRegressor(max_depth=4),DecisionTreeRegressor(max_depth=6),DecisionTreeRegressor(max_depth=8),DecisionTreeRegressor(max_depth=10)]\n",
    "}\n",
    "CV_etr = GridSearchCV(estimator=AdaBoostRegressor(), param_grid=param_grid, cv=3,n_jobs=-1)\n",
    "CV_etr.fit(x_train, y_train)\n",
    "print(CV_etr.best_params_)"
   ]
  },
  {
   "cell_type": "code",
   "execution_count": 56,
   "metadata": {},
   "outputs": [
    {
     "name": "stdout",
     "output_type": "stream",
     "text": [
      "CPU times: total: 2.02 s\n",
      "Wall time: 2.05 s\n"
     ]
    }
   ],
   "source": [
    "ada=AdaBoostRegressor(n_estimators=50 ,loss='square',base_estimator=(DecisionTreeRegressor(max_depth=8)) )\n",
    "%time ada.fit(x_train,y_train)\n",
    "y_predict=ada.predict(x_test)"
   ]
  },
  {
   "cell_type": "markdown",
   "metadata": {},
   "source": [
    "output"
   ]
  },
  {
   "cell_type": "code",
   "execution_count": 57,
   "metadata": {},
   "outputs": [
    {
     "data": {
      "image/png": "[encoded data removed]",
      "text/plain": [
       "<Figure size 432x288 with 1 Axes>"
      ]
     },
     "metadata": {
      "needs_background": "light"
     },
     "output_type": "display_data"
    },
    {
     "name": "stdout",
     "output_type": "stream",
     "text": [
      "rmse value: 0.1083494090935906\n",
      "r2 score: 0.6586968907057127\n"
     ]
    }
   ],
   "source": [
    "plot_and_metrics(y_test,y_predict)"
   ]
  },
  {
   "cell_type": "markdown",
   "metadata": {},
   "source": [
    "removing outliers from test data"
   ]
  },
  {
   "cell_type": "code",
   "execution_count": 58,
   "metadata": {},
   "outputs": [
    {
     "name": "stdout",
     "output_type": "stream",
     "text": [
      "rmse value: 0.07815577402738688\n",
      "r2 score: 0.7632357399903045\n",
      "OLF: 0.05948717948717952\n"
     ]
    }
   ],
   "source": [
    "x_test_no_outliers,y_test_no_outliers=remove_outliers(x_test,y_test,y_predict)\n",
    "y_predict_no_outliers=ada.predict(x_test_no_outliers)\n",
    "metrics(y_test,y_test_no_outliers,y_predict_no_outliers)"
   ]
  },
  {
   "cell_type": "markdown",
   "metadata": {},
   "source": [
    "# support vector machine"
   ]
  },
  {
   "cell_type": "markdown",
   "metadata": {},
   "source": [
    "for data set 1"
   ]
  },
  {
   "cell_type": "code",
   "execution_count": 59,
   "metadata": {},
   "outputs": [],
   "source": [
    "x_train,x_test,y_train,y_test = train_test_split(X1,y1,test_size=0.2,random_state=1)"
   ]
  },
  {
   "cell_type": "code",
   "execution_count": 60,
   "metadata": {},
   "outputs": [],
   "source": [
    "from sklearn.preprocessing import StandardScaler\n",
    "x_train_scaled=StandardScaler().fit_transform(x_train)\n",
    "x_train_scaled = pd.DataFrame(x_train_scaled, columns=x_train.columns)\n",
    "x_test_scaled=StandardScaler().fit_transform(x_test)\n",
    "x_test_scaled = pd.DataFrame(x_test_scaled, columns=x_test.columns)"
   ]
  },
  {
   "cell_type": "code",
   "execution_count": 61,
   "metadata": {},
   "outputs": [],
   "source": [
    "from sklearn.svm import SVR\n",
    "from sklearn.model_selection import RandomizedSearchCV"
   ]
  },
  {
   "cell_type": "code",
   "execution_count": null,
   "metadata": {},
   "outputs": [],
   "source": [
    "param_distribution={\n",
    "    'kernel':[\"linear\",\"rbf\"],\n",
    "    'C':[1,10,100],\n",
    "    'gamma':[0.01,0.1,0.5]\n",
    "}\n",
    "CV_etr = RandomizedSearchCV(estimator=SVR(), param_distribution=param_grid, cv=3,n_jobs=-1)\n",
    "CV_etr.fit(x_train, y_train)\n",
    "print(CV_etr.best_params_)"
   ]
  },
  {
   "cell_type": "code",
   "execution_count": 62,
   "metadata": {},
   "outputs": [
    {
     "name": "stdout",
     "output_type": "stream",
     "text": [
      "CPU times: total: 4.95 s\n",
      "Wall time: 5.25 s\n"
     ]
    }
   ],
   "source": [
    "svr=SVR(kernel=\"rbf\",C=1,gamma=0.1 )\n",
    "%time svr.fit(x_train_scaled,y_train)\n",
    "y_predict=svr.predict(x_test_scaled)"
   ]
  },
  {
   "cell_type": "markdown",
   "metadata": {},
   "source": [
    "output"
   ]
  },
  {
   "cell_type": "code",
   "execution_count": 63,
   "metadata": {},
   "outputs": [
    {
     "data": {
      "image/png": "[encoded data removed]",
      "text/plain": [
       "<Figure size 432x288 with 1 Axes>"
      ]
     },
     "metadata": {
      "needs_background": "light"
     },
     "output_type": "display_data"
    },
    {
     "name": "stdout",
     "output_type": "stream",
     "text": [
      "rmse value: 0.08266823461590578\n",
      "r2 score: 0.482172951671629\n"
     ]
    }
   ],
   "source": [
    "plot_and_metrics(y_test,y_predict)"
   ]
  },
  {
   "cell_type": "markdown",
   "metadata": {},
   "source": [
    "removing outliers"
   ]
  },
  {
   "cell_type": "code",
   "execution_count": 65,
   "metadata": {},
   "outputs": [
    {
     "name": "stdout",
     "output_type": "stream",
     "text": [
      "rmse value: 0.07169821362379587\n",
      "r2 score: 0.5444558933046771\n",
      "OLF: 0.023580968280467407\n"
     ]
    }
   ],
   "source": [
    "x_test_no_outliers,y_test_no_outliers=remove_outliers(x_test_scaled,y_test,y_predict)\n",
    "y_predict_no_outliers=svr.predict(x_test_no_outliers)\n",
    "metrics(y_test,y_test_no_outliers,y_predict_no_outliers)"
   ]
  },
  {
   "cell_type": "markdown",
   "metadata": {},
   "source": [
    "x-------------------x"
   ]
  },
  {
   "cell_type": "markdown",
   "metadata": {},
   "source": [
    "for data set 2"
   ]
  },
  {
   "cell_type": "code",
   "execution_count": 66,
   "metadata": {},
   "outputs": [],
   "source": [
    "x_train,x_test,y_train,y_test = train_test_split(X2,y2,test_size=0.2,random_state=1)"
   ]
  },
  {
   "cell_type": "code",
   "execution_count": 67,
   "metadata": {},
   "outputs": [],
   "source": [
    "from sklearn.preprocessing import StandardScaler\n",
    "x_train_scaled=StandardScaler().fit_transform(x_train)\n",
    "x_train_scaled = pd.DataFrame(x_train_scaled, columns=x_train.columns)\n",
    "x_test_scaled=StandardScaler().fit_transform(x_test)\n",
    "x_test_scaled = pd.DataFrame(x_test_scaled, columns=x_test.columns)"
   ]
  },
  {
   "cell_type": "code",
   "execution_count": null,
   "metadata": {},
   "outputs": [],
   "source": [
    "param_distribution={\n",
    "    'kernel':[\"linear\",\"rbf\"],\n",
    "    'C':[1,10,100],\n",
    "    'gamma':[0.01,0.1,0.5]\n",
    "}\n",
    "CV_etr = RandomizedSearchCV(estimator=SVR(), param_distribution=param_grid, cv=3,n_jobs=-1)\n",
    "CV_etr.fit(x_train_scaled, y_train)\n",
    "print(CV_etr.best_params_)"
   ]
  },
  {
   "cell_type": "code",
   "execution_count": 68,
   "metadata": {},
   "outputs": [
    {
     "name": "stdout",
     "output_type": "stream",
     "text": [
      "CPU times: total: 484 ms\n",
      "Wall time: 460 ms\n"
     ]
    }
   ],
   "source": [
    "svr=SVR(kernel=\"rbf\",C=10,gamma=0.01)\n",
    "%time svr.fit(x_train_scaled,y_train)\n",
    "y_predict=svr.predict(x_test_scaled)"
   ]
  },
  {
   "cell_type": "markdown",
   "metadata": {},
   "source": [
    "output"
   ]
  },
  {
   "cell_type": "code",
   "execution_count": 69,
   "metadata": {},
   "outputs": [
    {
     "data": {
      "image/png": "[encoded data removed]",
      "text/plain": [
       "<Figure size 432x288 with 1 Axes>"
      ]
     },
     "metadata": {
      "needs_background": "light"
     },
     "output_type": "display_data"
    },
    {
     "name": "stdout",
     "output_type": "stream",
     "text": [
      "rmse value: 0.11622074650443075\n",
      "r2 score: 0.607305813675999\n"
     ]
    }
   ],
   "source": [
    "plot_and_metrics(y_test,y_predict)"
   ]
  },
  {
   "cell_type": "markdown",
   "metadata": {},
   "source": [
    "removing outliers(>0.2 dex) from test data frame"
   ]
  },
  {
   "cell_type": "code",
   "execution_count": 70,
   "metadata": {},
   "outputs": [
    {
     "name": "stdout",
     "output_type": "stream",
     "text": [
      "rmse value: 0.08768114678414225\n",
      "r2 score: 0.7132196968591762\n",
      "OLF: 0.0738461538461539\n"
     ]
    }
   ],
   "source": [
    "x_test_no_outliers,y_test_no_outliers=remove_outliers(x_test_scaled,y_test,y_predict)\n",
    "y_predict_no_outliers=svr.predict(x_test_no_outliers)\n",
    "metrics(y_test,y_test_no_outliers,y_predict_no_outliers)"
   ]
  },
  {
   "cell_type": "markdown",
   "metadata": {},
   "source": [
    "x-------------------------------x"
   ]
  },
  {
   "cell_type": "markdown",
   "metadata": {},
   "source": [
    "# results normalized around ridgeCV"
   ]
  },
  {
   "cell_type": "code",
   "execution_count": 71,
   "metadata": {},
   "outputs": [],
   "source": [
    "result_1=pd.DataFrame(data={\"Test set\":[\"\",\"\",\"0.09< z <0.12\",\"\",\"\"],'Algorithm':['ridgeCV','RandomForest','ExtremelyRandomizedTrees','AdaBoast',\"SVM\"],\"RSME(all objects)\":[0.08834,0.0811,0.0804,0.08329,0.08266],\"RSME(no outliers)\":[0.07327,0.06994,0.0689,0.07131,0.07169],\"OLF\":[0.0294,0.0242,0.02441,0.02504,0.02358],\"R2\":[0.4086,0.5015,0.5101,0.4742,0.4821],\"fitting CPU time\":[31.2,14600,5810,3970,5190]})\n",
    "result_1.loc[:,\"RSME(all objects)\":]=result_1.loc[:,\"RSME(all objects)\":].div(result_1.iloc[0][\"RSME(all objects)\":])\n",
    "\n",
    "result_2=pd.DataFrame(data={\"Test set\":[\"\",\"\",\"0.2< z <0.25\",\"\",\"\"],'Algorithm':['ridgeCV','RandomForest','ExtremelyRandomizedTrees','AdaBoast',\"SVM\"],\"RSME(all objects)\":[0.12003,0.11104,0.10534,0.11039,0.11622],\"RSME(no outliers)\":[0.08420,0.07854,0.07830,0.077501,0.08768],\"OLF\":[0.0789,0.06358,0.05948,0.06256,0.07384],\"R2\":[0.5810,0.6414,0.67733,0.64568,0.6073],\"fitting CPU time\":[15.6,2140,797,2140,625]})\n",
    "result_2.loc[:,\"RSME(all objects)\":]=result_2.loc[:,\"RSME(all objects)\":].div(result_2.iloc[0][\"RSME(all objects)\":])"
   ]
  },
  {
   "cell_type": "code",
   "execution_count": 72,
   "metadata": {},
   "outputs": [
    {
     "data": {
      "text/html": [
       "<div>\n",
       "<style scoped>\n",
       "    .dataframe tbody tr th:only-of-type {\n",
       "        vertical-align: middle;\n",
       "    }\n",
       "\n",
       "    .dataframe tbody tr th {\n",
       "        vertical-align: top;\n",
       "    }\n",
       "\n",
       "    .dataframe thead th {\n",
       "        text-align: right;\n",
       "    }\n",
       "</style>\n",
       "<table border=\"1\" class=\"dataframe\">\n",
       "  <thead>\n",
       "    <tr style=\"text-align: right;\">\n",
       "      <th></th>\n",
       "      <th>Test set</th>\n",
       "      <th>Algorithm</th>\n",
       "      <th>RSME(all objects)</th>\n",
       "      <th>RSME(no outliers)</th>\n",
       "      <th>OLF</th>\n",
       "      <th>R2</th>\n",
       "      <th>fitting CPU time</th>\n",
       "    </tr>\n",
       "  </thead>\n",
       "  <tbody>\n",
       "    <tr>\n",
       "      <th>0</th>\n",
       "      <td></td>\n",
       "      <td>ridgeCV</td>\n",
       "      <td>1.0</td>\n",
       "      <td>1.0</td>\n",
       "      <td>1.0</td>\n",
       "      <td>1.0</td>\n",
       "      <td>1.0</td>\n",
       "    </tr>\n",
       "    <tr>\n",
       "      <th>1</th>\n",
       "      <td></td>\n",
       "      <td>RandomForest</td>\n",
       "      <td>0.918044</td>\n",
       "      <td>0.954552</td>\n",
       "      <td>0.823129</td>\n",
       "      <td>1.227362</td>\n",
       "      <td>467.948718</td>\n",
       "    </tr>\n",
       "    <tr>\n",
       "      <th>2</th>\n",
       "      <td>0.09&lt; z &lt;0.12</td>\n",
       "      <td>ExtremelyRandomizedTrees</td>\n",
       "      <td>0.91012</td>\n",
       "      <td>0.940358</td>\n",
       "      <td>0.830272</td>\n",
       "      <td>1.248409</td>\n",
       "      <td>186.217949</td>\n",
       "    </tr>\n",
       "    <tr>\n",
       "      <th>3</th>\n",
       "      <td></td>\n",
       "      <td>AdaBoast</td>\n",
       "      <td>0.942835</td>\n",
       "      <td>0.97325</td>\n",
       "      <td>0.851701</td>\n",
       "      <td>1.160548</td>\n",
       "      <td>127.24359</td>\n",
       "    </tr>\n",
       "    <tr>\n",
       "      <th>4</th>\n",
       "      <td></td>\n",
       "      <td>SVM</td>\n",
       "      <td>0.935703</td>\n",
       "      <td>0.978436</td>\n",
       "      <td>0.802041</td>\n",
       "      <td>1.179883</td>\n",
       "      <td>166.346154</td>\n",
       "    </tr>\n",
       "  </tbody>\n",
       "</table>\n",
       "</div>"
      ],
      "text/plain": [
       "        Test set                 Algorithm RSME(all objects)  \\\n",
       "0                                  ridgeCV               1.0   \n",
       "1                             RandomForest          0.918044   \n",
       "2  0.09< z <0.12  ExtremelyRandomizedTrees           0.91012   \n",
       "3                                 AdaBoast          0.942835   \n",
       "4                                      SVM          0.935703   \n",
       "\n",
       "  RSME(no outliers)       OLF        R2 fitting CPU time  \n",
       "0               1.0       1.0       1.0              1.0  \n",
       "1          0.954552  0.823129  1.227362       467.948718  \n",
       "2          0.940358  0.830272  1.248409       186.217949  \n",
       "3           0.97325  0.851701  1.160548        127.24359  \n",
       "4          0.978436  0.802041  1.179883       166.346154  "
      ]
     },
     "execution_count": 72,
     "metadata": {},
     "output_type": "execute_result"
    }
   ],
   "source": [
    "result_1"
   ]
  },
  {
   "cell_type": "code",
   "execution_count": 73,
   "metadata": {},
   "outputs": [
    {
     "data": {
      "text/html": [
       "<div>\n",
       "<style scoped>\n",
       "    .dataframe tbody tr th:only-of-type {\n",
       "        vertical-align: middle;\n",
       "    }\n",
       "\n",
       "    .dataframe tbody tr th {\n",
       "        vertical-align: top;\n",
       "    }\n",
       "\n",
       "    .dataframe thead th {\n",
       "        text-align: right;\n",
       "    }\n",
       "</style>\n",
       "<table border=\"1\" class=\"dataframe\">\n",
       "  <thead>\n",
       "    <tr style=\"text-align: right;\">\n",
       "      <th></th>\n",
       "      <th>Test set</th>\n",
       "      <th>Algorithm</th>\n",
       "      <th>RSME(all objects)</th>\n",
       "      <th>RSME(no outliers)</th>\n",
       "      <th>OLF</th>\n",
       "      <th>R2</th>\n",
       "      <th>fitting CPU time</th>\n",
       "    </tr>\n",
       "  </thead>\n",
       "  <tbody>\n",
       "    <tr>\n",
       "      <th>0</th>\n",
       "      <td></td>\n",
       "      <td>ridgeCV</td>\n",
       "      <td>1.0</td>\n",
       "      <td>1.0</td>\n",
       "      <td>1.0</td>\n",
       "      <td>1.0</td>\n",
       "      <td>1.0</td>\n",
       "    </tr>\n",
       "    <tr>\n",
       "      <th>1</th>\n",
       "      <td></td>\n",
       "      <td>RandomForest</td>\n",
       "      <td>0.925102</td>\n",
       "      <td>0.932779</td>\n",
       "      <td>0.80583</td>\n",
       "      <td>1.103959</td>\n",
       "      <td>137.179487</td>\n",
       "    </tr>\n",
       "    <tr>\n",
       "      <th>2</th>\n",
       "      <td>0.2&lt; z &lt;0.25</td>\n",
       "      <td>ExtremelyRandomizedTrees</td>\n",
       "      <td>0.877614</td>\n",
       "      <td>0.929929</td>\n",
       "      <td>0.753866</td>\n",
       "      <td>1.1658</td>\n",
       "      <td>51.089744</td>\n",
       "    </tr>\n",
       "    <tr>\n",
       "      <th>3</th>\n",
       "      <td></td>\n",
       "      <td>AdaBoast</td>\n",
       "      <td>0.919687</td>\n",
       "      <td>0.920439</td>\n",
       "      <td>0.792902</td>\n",
       "      <td>1.111325</td>\n",
       "      <td>137.179487</td>\n",
       "    </tr>\n",
       "    <tr>\n",
       "      <th>4</th>\n",
       "      <td></td>\n",
       "      <td>SVM</td>\n",
       "      <td>0.968258</td>\n",
       "      <td>1.04133</td>\n",
       "      <td>0.935868</td>\n",
       "      <td>1.045267</td>\n",
       "      <td>40.064103</td>\n",
       "    </tr>\n",
       "  </tbody>\n",
       "</table>\n",
       "</div>"
      ],
      "text/plain": [
       "       Test set                 Algorithm RSME(all objects) RSME(no outliers)  \\\n",
       "0                                 ridgeCV               1.0               1.0   \n",
       "1                            RandomForest          0.925102          0.932779   \n",
       "2  0.2< z <0.25  ExtremelyRandomizedTrees          0.877614          0.929929   \n",
       "3                                AdaBoast          0.919687          0.920439   \n",
       "4                                     SVM          0.968258           1.04133   \n",
       "\n",
       "        OLF        R2 fitting CPU time  \n",
       "0       1.0       1.0              1.0  \n",
       "1   0.80583  1.103959       137.179487  \n",
       "2  0.753866    1.1658        51.089744  \n",
       "3  0.792902  1.111325       137.179487  \n",
       "4  0.935868  1.045267        40.064103  "
      ]
     },
     "execution_count": 73,
     "metadata": {},
     "output_type": "execute_result"
    }
   ],
   "source": [
    "result_2"
   ]
  },
  {
   "cell_type": "markdown",
   "metadata": {},
   "source": [
    "# now using best performing model(extremely randomized trees) by including stellar mass and photometric redshift as well"
   ]
  },
  {
   "cell_type": "code",
   "execution_count": 74,
   "metadata": {},
   "outputs": [],
   "source": [
    "X3 = data_set1.drop([\"metallicity\"],axis=1)\n",
    "y3 = data_set1[\"metallicity\"]"
   ]
  },
  {
   "cell_type": "code",
   "execution_count": 75,
   "metadata": {},
   "outputs": [],
   "source": [
    "X4 = data_set2.drop([\"metallicity\"],axis=1)\n",
    "y4= data_set2[\"metallicity\"]"
   ]
  },
  {
   "cell_type": "markdown",
   "metadata": {},
   "source": [
    "for data set 1"
   ]
  },
  {
   "cell_type": "code",
   "execution_count": 76,
   "metadata": {},
   "outputs": [],
   "source": [
    "x_train,x_test,y_train,y_test = train_test_split(X3,y3,test_size=0.2,random_state=1)"
   ]
  },
  {
   "cell_type": "code",
   "execution_count": 77,
   "metadata": {},
   "outputs": [],
   "source": [
    "from sklearn.ensemble import ExtraTreesRegressor\n",
    "from sklearn.model_selection import GridSearchCV\n",
    "from sklearn.metrics import mean_squared_error\n",
    "from sklearn.metrics import r2_score"
   ]
  },
  {
   "cell_type": "code",
   "execution_count": 12,
   "metadata": {},
   "outputs": [
    {
     "name": "stdout",
     "output_type": "stream",
     "text": [
      "{'min_samples_leaf': 8, 'min_samples_split': 6, 'n_estimators': 100}\n"
     ]
    }
   ],
   "source": [
    "param_grid={\n",
    "    'n_estimators':[10,50,100],\n",
    "    'min_samples_split':[2,4,6,8],\n",
    "    'min_samples_leaf':[2,4,6,8]   \n",
    "}\n",
    "CV_etr = GridSearchCV(estimator=ExtraTreesRegressor(), param_grid=param_grid, cv=3,n_jobs=-1)\n",
    "CV_etr.fit(x_train, y_train)\n",
    "print(CV_etr.best_params_)"
   ]
  },
  {
   "cell_type": "code",
   "execution_count": 78,
   "metadata": {},
   "outputs": [
    {
     "name": "stdout",
     "output_type": "stream",
     "text": [
      "CPU times: total: 6.39 s\n",
      "Wall time: 6.68 s\n"
     ]
    }
   ],
   "source": [
    "etr=ExtraTreesRegressor(n_estimators=100,min_samples_leaf=6,min_samples_split=8)\n",
    "%time etr.fit(x_train,y_train)\n",
    "y_predict=etr.predict(x_test)"
   ]
  },
  {
   "cell_type": "code",
   "execution_count": 79,
   "metadata": {},
   "outputs": [
    {
     "data": {
      "image/png": "[encoded data removed]",
      "text/plain": [
       "<Figure size 432x288 with 1 Axes>"
      ]
     },
     "metadata": {
      "needs_background": "light"
     },
     "output_type": "display_data"
    },
    {
     "name": "stdout",
     "output_type": "stream",
     "text": [
      "rmse value: 0.07872898861205539\n",
      "r2 score: 0.5303473796738423\n"
     ]
    }
   ],
   "source": [
    "plot_and_metrics(y_test,y_predict)"
   ]
  },
  {
   "cell_type": "markdown",
   "metadata": {},
   "source": [
    "removing outliers"
   ]
  },
  {
   "cell_type": "code",
   "execution_count": 80,
   "metadata": {},
   "outputs": [
    {
     "name": "stdout",
     "output_type": "stream",
     "text": [
      "rmse value: 0.06842750305327217\n",
      "r2 score: 0.5865356560625359\n",
      "OLF: 0.02128547579298834\n"
     ]
    }
   ],
   "source": [
    "x_test_no_outliers,y_test_no_outliers=remove_outliers(x_test,y_test,y_predict)\n",
    "y_predict_no_outliers=etr.predict(x_test_no_outliers)\n",
    "metrics(y_test,y_test_no_outliers,y_predict_no_outliers)"
   ]
  },
  {
   "cell_type": "code",
   "execution_count": 81,
   "metadata": {},
   "outputs": [],
   "source": [
    "y_predict_1=y_predict\n",
    "y_true_1=y_test"
   ]
  },
  {
   "cell_type": "markdown",
   "metadata": {},
   "source": [
    "x------------------------x"
   ]
  },
  {
   "cell_type": "markdown",
   "metadata": {},
   "source": [
    "for data set 2"
   ]
  },
  {
   "cell_type": "code",
   "execution_count": 82,
   "metadata": {},
   "outputs": [],
   "source": [
    "x_train,x_test,y_train,y_test = train_test_split(X4,y4,test_size=0.2,random_state=1)"
   ]
  },
  {
   "cell_type": "code",
   "execution_count": 21,
   "metadata": {},
   "outputs": [
    {
     "name": "stdout",
     "output_type": "stream",
     "text": [
      "{'min_samples_leaf': 6, 'min_samples_split': 2, 'n_estimators': 100}\n"
     ]
    }
   ],
   "source": [
    "param_grid={\n",
    "    'n_estimators':[10,50,100],\n",
    "    'min_samples_split':[2,4,6,8],\n",
    "    'min_samples_leaf':[2,4,6,8]\n",
    "}\n",
    "CV_etr = GridSearchCV(estimator=ExtraTreesRegressor(), param_grid=param_grid, cv=3,n_jobs=-1)\n",
    "CV_etr.fit(x_train, y_train)\n",
    "print(CV_etr.best_params_)"
   ]
  },
  {
   "cell_type": "code",
   "execution_count": 83,
   "metadata": {},
   "outputs": [
    {
     "name": "stdout",
     "output_type": "stream",
     "text": [
      "CPU times: total: 1.08 s\n",
      "Wall time: 1.1 s\n"
     ]
    }
   ],
   "source": [
    "etr=ExtraTreesRegressor(n_estimators=100,min_samples_leaf=6,min_samples_split=2)\n",
    "%time etr.fit(x_train,y_train)\n",
    "y_predict=etr.predict(x_test)"
   ]
  },
  {
   "cell_type": "code",
   "execution_count": 84,
   "metadata": {},
   "outputs": [
    {
     "data": {
      "image/png": "[encoded data removed]",
      "text/plain": [
       "<Figure size 432x288 with 1 Axes>"
      ]
     },
     "metadata": {
      "needs_background": "light"
     },
     "output_type": "display_data"
    },
    {
     "name": "stdout",
     "output_type": "stream",
     "text": [
      "rmse value: 0.10453333929349388\n",
      "r2 score: 0.6823149347817781\n"
     ]
    }
   ],
   "source": [
    "plot_and_metrics(y_test,y_predict)"
   ]
  },
  {
   "cell_type": "markdown",
   "metadata": {},
   "source": [
    "removing outliers (|true - predicted|>0.2 dex)"
   ]
  },
  {
   "cell_type": "code",
   "execution_count": 85,
   "metadata": {},
   "outputs": [
    {
     "name": "stdout",
     "output_type": "stream",
     "text": [
      "rmse value: 0.07716334873909471\n",
      "r2 score: 0.7566285011220562\n",
      "OLF: 0.05948717948717952\n"
     ]
    }
   ],
   "source": [
    "x_test_no_outliers,y_test_no_outliers=remove_outliers(x_test,y_test,y_predict)\n",
    "y_predict_no_outliers=etr.predict(x_test_no_outliers)\n",
    "metrics(y_test,y_test_no_outliers,y_predict_no_outliers)\n"
   ]
  },
  {
   "cell_type": "code",
   "execution_count": 86,
   "metadata": {},
   "outputs": [],
   "source": [
    "y_predict_2=y_predict\n",
    "y_true_2=y_test"
   ]
  },
  {
   "cell_type": "markdown",
   "metadata": {},
   "source": [
    "# photometric(predicted) Vs spectroscopic(true) metallicity"
   ]
  },
  {
   "cell_type": "code",
   "execution_count": 87,
   "metadata": {},
   "outputs": [
    {
     "data": {
      "image/png": "[encoded data removed]",
      "text/plain": [
       "<Figure size 432x288 with 1 Axes>"
      ]
     },
     "metadata": {
      "needs_background": "light"
     },
     "output_type": "display_data"
    }
   ],
   "source": [
    "plt.scatter(y_true_1,y_predict_1,color=\"blue\",alpha=1,s=12,label=\"data 1\")\n",
    "plt.scatter(y_true_2,y_predict_2,color=\"green\",alpha=0.5,s=12,label=\"data 2\")\n",
    "plt.plot([8.2,9.2],[8.2,9.2],color=\"black\")\n",
    "plt.plot([8.2,9.2],[8.4,9.4],color=\"black\",linestyle='dashed')\n",
    "plt.plot([8.2,9.2],[8,9],color=\"black\",linestyle='dashed')\n",
    "plt.ylabel('predicted/photometric metallicity')\n",
    "plt.xlabel('true/spectroscopic metallicity')\n",
    "plt.legend()\n",
    "plt.show()"
   ]
  },
  {
   "cell_type": "markdown",
   "metadata": {},
   "source": [
    "solid line:  1:1 correspondence and dashed line: 0.2 dex deviation"
   ]
  },
  {
   "cell_type": "markdown",
   "metadata": {},
   "source": [
    "# importance of features"
   ]
  },
  {
   "cell_type": "markdown",
   "metadata": {},
   "source": [
    "ranking of feature by inversing rsme value and normalising them"
   ]
  },
  {
   "cell_type": "code",
   "execution_count": 88,
   "metadata": {},
   "outputs": [],
   "source": [
    "def normalised_rsme_ranking(x_train,x_test,y_train,y_test):     # defining a function to plot rank of features via rsme of test data\n",
    "   error=[]\n",
    "   for col in (x_train.columns):             #fitting all features one by one\n",
    "     etr=ExtraTreesRegressor()\n",
    "     x_tr=x_train[col]\n",
    "     x_tr=x_tr.values.reshape(-1,1)\n",
    "     x_te=x_test[col]\n",
    "     x_te=x_te.values.reshape(-1,1)\n",
    "    \n",
    "     etr.fit(x_tr,y_train)\n",
    "     pred=etr.predict(x_te)\n",
    "     rsme=(mean_squared_error(y_test,pred))**0.5\n",
    "     error.append([col,(rsme)])\n",
    "   error=pd.DataFrame(error,columns=[\"features\",\"rsme\"])    # dataframe of features and rsme values we get\n",
    "   \n",
    "   error[\"1/rsme\"]=1/(error[\"rsme\"])                 # inversing rsme values and normalising them\n",
    "   factor=1/((error[\"1/rsme\"]).sum())\n",
    "   error['ranking']=error[\"1/rsme\"].mul(factor)\n",
    "   error.drop([\"rsme\",\"1/rsme\"],axis=1,inplace=True)\n",
    "   error.sort_values(by = 'ranking',ascending=False, inplace = True)\n",
    "   error.plot.bar(x=\"features\")             # plotting them\n",
    " "
   ]
  },
  {
   "cell_type": "markdown",
   "metadata": {},
   "source": [
    "for data set 1"
   ]
  },
  {
   "cell_type": "code",
   "execution_count": 89,
   "metadata": {},
   "outputs": [
    {
     "data": {
      "image/png": "[encoded data removed]",
      "text/plain": [
       "<Figure size 432x288 with 1 Axes>"
      ]
     },
     "metadata": {
      "needs_background": "light"
     },
     "output_type": "display_data"
    }
   ],
   "source": [
    "x_train,x_test,y_train,y_test = train_test_split(X3,y3,test_size=0.2,random_state=1)\n",
    "normalised_rsme_ranking(x_train,x_test,y_train,y_test)"
   ]
  },
  {
   "cell_type": "markdown",
   "metadata": {},
   "source": [
    "for data set 2"
   ]
  },
  {
   "cell_type": "code",
   "execution_count": 90,
   "metadata": {},
   "outputs": [
    {
     "data": {
      "image/png": "[encoded data removed]",
      "text/plain": [
       "<Figure size 432x288 with 1 Axes>"
      ]
     },
     "metadata": {
      "needs_background": "light"
     },
     "output_type": "display_data"
    }
   ],
   "source": [
    "x_train,x_test,y_train,y_test = train_test_split(X4,y4,test_size=0.2,random_state=1)\n",
    "normalised_rsme_ranking(x_train,x_test,y_train,y_test)"
   ]
  },
  {
   "cell_type": "markdown",
   "metadata": {},
   "source": [
    "ranking of features by just fitting them in ExtratreeRegressor"
   ]
  },
  {
   "cell_type": "code",
   "execution_count": 100,
   "metadata": {},
   "outputs": [],
   "source": [
    "def ranking_of_features(x_train,x_test,y_train,y_test):   # defining a function to get ranking and metrics by fitting all features one by one\n",
    "   etr=ExtraTreesRegressor(n_jobs=-1).fit(x_train,y_train)\n",
    "   feature_importances = pd.DataFrame(etr.feature_importances_, index =x_train.columns,  columns=['importance']).sort_values('importance', ascending=False)\n",
    "   feature_importances.plot.bar()    # plotting ranking based on their importance   \n",
    "   plt.show()\n",
    "    \n",
    "   # now sorting train data columns according to their ranking\n",
    "   imp_fet=feature_importances                    \n",
    "   imp_fet[\"feature\"]=imp_fet.index\n",
    "   imp_fet=imp_fet.reset_index(drop=True)\n",
    "   imp_fet=imp_fet.transpose()\n",
    "   imp_fet.rename(columns=imp_fet.iloc[1,:],inplace=True)\n",
    "   imp_fet.drop(\"feature\",inplace=True)\n",
    "   train_imp=pd.concat([x_train,imp_fet],join=\"outer\",axis=0)\n",
    "   train_imp.sort_values(by=\"importance\",axis=1,ascending=False,inplace=True)\n",
    "   train_imp.drop(\"importance\",axis=0,inplace=True)\n",
    "    \n",
    "   # sorting test data columns according to their ranking\n",
    "   imp_fet=feature_importances\n",
    "   imp_fet[\"feature\"]=imp_fet.index\n",
    "   imp_fet=imp_fet.reset_index(drop=True)\n",
    "   imp_fet=imp_fet.transpose()\n",
    "   imp_fet.rename(columns=imp_fet.iloc[1,:],inplace=True)\n",
    "   imp_fet.drop(\"feature\",inplace=True)\n",
    "   test_imp=pd.concat([x_test,imp_fet],join=\"outer\",axis=0)\n",
    "   test_imp.sort_values(by=\"importance\",axis=1,ascending=False,inplace=True)\n",
    "   test_imp.drop(\"importance\",axis=0,inplace=True)\n",
    "\n",
    "   metrics=[]             # defining a list to store values of metrics(rsme,r2,fraction of outliers)\n",
    "   for i in range(len(train_imp.columns)):    # starting from first column and successively adding next column to fit and test to check metrics\n",
    "      etr=ExtraTreesRegressor(n_jobs=-1)\n",
    "      etr.fit(train_imp.iloc[:,0:i+1],y_train)\n",
    "      pred=etr.predict(test_imp.iloc[:,0:i+1])\n",
    "      rsme=(mean_squared_error(y_test,pred))**0.5\n",
    "      r2=r2_score(y_test,pred)\n",
    "      y_predict_data=pd.DataFrame(pred,columns=[\"pred\"])\n",
    "      y_test_frame=pd.DataFrame(y_test)\n",
    "      y_test_frame.reset_index(inplace=True,drop=True)\n",
    "      frame = pd.concat([y_test_frame,y_predict_data], axis=1)\n",
    "      frame.drop(frame[((frame['metallicity']-frame['pred'])**2 )>0.04 ].index,inplace=True)\n",
    "      olf=1-(len(frame)/len(y_test))\n",
    "      metrics.append([rsme,r2,olf])\n",
    "    \n",
    "   metrics=pd.DataFrame(metrics,columns=[\"rsme\",\"r2\",\"olf\"])     \n",
    "   plt.scatter(metrics.index,metrics[\"rsme\"],s=200,label=\"rsme\")     # plotting the graph\n",
    "   plt.scatter(metrics.index,metrics[\"r2\"],s=200,label=\"r2\")\n",
    "   plt.scatter(metrics.index,metrics[\"olf\"],s=200,label=\"olf\")\n",
    "   plt.legend()\n",
    "   plt.show()       \n"
   ]
  },
  {
   "cell_type": "markdown",
   "metadata": {},
   "source": [
    "for data set 1"
   ]
  },
  {
   "cell_type": "code",
   "execution_count": 102,
   "metadata": {},
   "outputs": [
    {
     "data": {
      "image/png": "[encoded data removed]",
      "text/plain": [
       "<Figure size 432x288 with 1 Axes>"
      ]
     },
     "metadata": {
      "needs_background": "light"
     },
     "output_type": "display_data"
    },
    {
     "data": {
      "image/png": "[encoded data removed]",
      "text/plain": [
       "<Figure size 432x288 with 1 Axes>"
      ]
     },
     "metadata": {
      "needs_background": "light"
     },
     "output_type": "display_data"
    }
   ],
   "source": [
    "x_train,x_test,y_train,y_test = train_test_split(X3,y3,test_size=0.2,random_state=1)\n",
    "ranking_of_features(x_train,x_test,y_train,y_test)"
   ]
  },
  {
   "cell_type": "markdown",
   "metadata": {},
   "source": [
    "for data set 2"
   ]
  },
  {
   "cell_type": "code",
   "execution_count": 97,
   "metadata": {},
   "outputs": [
    {
     "data": {
      "image/png": "[encoded data removed]",
      "text/plain": [
       "<Figure size 432x288 with 1 Axes>"
      ]
     },
     "metadata": {
      "needs_background": "light"
     },
     "output_type": "display_data"
    },
    {
     "data": {
      "image/png": "[encoded data removed]",
      "text/plain": [
       "<Figure size 432x288 with 1 Axes>"
      ]
     },
     "metadata": {
      "needs_background": "light"
     },
     "output_type": "display_data"
    }
   ],
   "source": [
    "x_train,x_test,y_train,y_test = train_test_split(X4,y4,test_size=0.2,random_state=1)\n",
    "ranking_of_features(x_train,x_test,y_train,y_test)"
   ]
  },
  {
   "cell_type": "code",
   "execution_count": null,
   "metadata": {},
   "outputs": [],
   "source": []
  }
 ],
 "metadata": {
  "interpreter": {
   "hash": "8c3d4d9970fc5c09c50d9318a9c7fbf4d0159e4b28833276f5678ee22bded273"
  },
  "kernelspec": {
   "display_name": "Python 3 (ipykernel)",
   "language": "python",
   "name": "python3"
  },
  "language_info": {
   "codemirror_mode": {
    "name": "ipython",
    "version": 3
   },
   "file_extension": ".py",
   "mimetype": "text/x-python",
   "name": "python",
   "nbconvert_exporter": "python",
   "pygments_lexer": "ipython3",
   "version": "3.10.3"
  }
 },
 "nbformat": 4,
 "nbformat_minor": 2
}
