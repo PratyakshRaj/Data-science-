{
 "cells": [
  {
   "cell_type": "code",
   "execution_count": 1,
   "metadata": {},
   "outputs": [],
   "source": [
    "import pandas as pd\n",
    "import matplotlib.pyplot as plt\n",
    "import numpy as np\n",
    "import seaborn as sns\n",
    "import sklearn\n"
   ]
  },
  {
   "cell_type": "code",
   "execution_count": 2,
   "metadata": {},
   "outputs": [],
   "source": [
    "from sklearn.model_selection import train_test_split\n",
    "from sklearn.ensemble import ExtraTreesRegressor\n",
    "from sklearn.metrics import mean_squared_error\n",
    "from sklearn.metrics import r2_score"
   ]
  },
  {
   "cell_type": "code",
   "execution_count": 27,
   "metadata": {},
   "outputs": [],
   "source": [
    "raw_data=pd.read_csv(\"use_this_data.csv\")"
   ]
  },
  {
   "cell_type": "code",
   "execution_count": 28,
   "metadata": {},
   "outputs": [
    {
     "name": "stderr",
     "output_type": "stream",
     "text": [
      "C:\\Users\\Lenovo\\AppData\\Local\\Temp\\ipykernel_8584\\3279168576.py:2: SettingWithCopyWarning: \n",
      "A value is trying to be set on a copy of a slice from a DataFrame\n",
      "\n",
      "See the caveats in the documentation: https://pandas.pydata.org/pandas-docs/stable/user_guide/indexing.html#returning-a-view-versus-a-copy\n",
      "  data_set1.drop(\"z_s\",axis=1,inplace=True)\n",
      "C:\\Users\\Lenovo\\AppData\\Local\\Temp\\ipykernel_8584\\3279168576.py:5: SettingWithCopyWarning: \n",
      "A value is trying to be set on a copy of a slice from a DataFrame\n",
      "\n",
      "See the caveats in the documentation: https://pandas.pydata.org/pandas-docs/stable/user_guide/indexing.html#returning-a-view-versus-a-copy\n",
      "  data_set2.drop(\"z_s\",axis=1,inplace=True)\n"
     ]
    }
   ],
   "source": [
    "data_set1=raw_data[((raw_data['z_s']>0.09) & (raw_data['z_s']<0.12)) & (raw_data['r']<18)]\n",
    "data_set1.drop(\"z_s\",axis=1,inplace=True)\n",
    "\n",
    "data_set2=raw_data[((raw_data['z_s']>0.2) & (raw_data['z_s']<0.25)) & ((raw_data['r']<25)&(raw_data['r']>15))]\n",
    "data_set2.drop(\"z_s\",axis=1,inplace=True)\n"
   ]
  },
  {
   "cell_type": "markdown",
   "metadata": {},
   "source": [
    "function to add spectroscopic features one by one and calculating matrics "
   ]
  },
  {
   "cell_type": "code",
   "execution_count": 29,
   "metadata": {},
   "outputs": [],
   "source": [
    "def evaluation(dataset):\n",
    "    f=dataset.copy()\n",
    "    f.drop([\"NII\",\"OIII\",\"OII\",\"h_beta\",\"h_alpha\"],axis=1,inplace=True)\n",
    "    for i in (\"NII\",\"OIII\",\"OII\",\"h_beta\",\"h_alpha\"):\n",
    "        print(\"adding\",i)\n",
    "        f=pd.concat([f,dataset[i]],axis=1)\n",
    "        X=f.drop(\"metallicity\",axis=1)\n",
    "        y=f[\"metallicity\"]\n",
    "        x_train,x_test,y_train,y_test=train_test_split(X,y,test_size=0.2,random_state=1)\n",
    "        etr=ExtraTreesRegressor(n_jobs=-1)\n",
    "        etr.fit(x_train,y_train)\n",
    "        y_predict=etr.predict(x_test)\n",
    "\n",
    "        print(\"all objects rsme: \",(mean_squared_error(y_test,y_predict))**0.5)\n",
    "\n",
    "        print(\"removing outliers\")\n",
    "        y_predict_data=pd.DataFrame(y_predict,columns=[\"y_predict\"])\n",
    "        x_test.reset_index(inplace = True, drop = True)\n",
    "        y_test=pd.DataFrame(y_test)\n",
    "        y_test.reset_index(inplace=True,drop=True)\n",
    "        frame = pd.concat([x_test,y_test,y_predict_data], axis=1)\n",
    "        frame.drop(frame[((frame['metallicity']-frame['y_predict'])**2 )>0.04 ].index,inplace=True)\n",
    "        x_test_no_outliers=frame.drop([\"y_predict\",\"metallicity\"],axis=1)\n",
    "        y_test_no_outliers=frame[\"metallicity\"]\n",
    "        \n",
    "        y_predict_no_outliers=etr.predict(x_test_no_outliers)\n",
    "        \n",
    "        print(\"rmse value:\",mean_squared_error(y_test_no_outliers,y_predict_no_outliers)**0.5)\n",
    "        print(\"r2 score:\",r2_score(y_test_no_outliers,y_predict_no_outliers))\n",
    "        print(\"OLF:\",1-(len(y_test_no_outliers)/len(y_test)),\"\\n\")\n",
    "\n",
    "\n"
   ]
  },
  {
   "cell_type": "markdown",
   "metadata": {},
   "source": [
    "for data set 1"
   ]
  },
  {
   "cell_type": "code",
   "execution_count": 30,
   "metadata": {},
   "outputs": [
    {
     "name": "stdout",
     "output_type": "stream",
     "text": [
      "adding NII\n",
      "all objects rsme:  0.07333999829813229\n",
      "removing outliers\n",
      "rmse value: 0.06535377730936442\n",
      "r2 score: 0.6366485417904515\n",
      "OLF: 0.015859766277128595 \n",
      "\n",
      "adding OIII\n",
      "all objects rsme:  0.05269361581007559\n",
      "removing outliers\n",
      "rmse value: 0.04738835664972357\n",
      "r2 score: 0.8180353698011265\n",
      "OLF: 0.006260434056761244 \n",
      "\n",
      "adding OII\n",
      "all objects rsme:  0.045748618840536055\n",
      "removing outliers\n",
      "rmse value: 0.041723279319416766\n",
      "r2 score: 0.8605917299825905\n",
      "OLF: 0.0039649415692821766 \n",
      "\n",
      "adding h_beta\n",
      "all objects rsme:  0.04428072968116475\n",
      "removing outliers\n",
      "rmse value: 0.0400594901619231\n",
      "r2 score: 0.8716086237770786\n",
      "OLF: 0.0037562604340567463 \n",
      "\n",
      "adding h_alpha\n",
      "all objects rsme:  0.04342805752530466\n",
      "removing outliers\n",
      "rmse value: 0.03964387920737233\n",
      "r2 score: 0.8745874004529886\n",
      "OLF: 0.003547579298831427 \n",
      "\n"
     ]
    }
   ],
   "source": [
    "evaluation(data_set1)"
   ]
  },
  {
   "cell_type": "markdown",
   "metadata": {},
   "source": [
    "for data set 2"
   ]
  },
  {
   "cell_type": "code",
   "execution_count": 32,
   "metadata": {},
   "outputs": [
    {
     "name": "stdout",
     "output_type": "stream",
     "text": [
      "adding NII\n",
      "all objects rsme:  0.09776665114463597\n",
      "removing outliers\n",
      "rmse value: 0.07776718456355668\n",
      "r2 score: 0.7631736413951393\n",
      "OLF: 0.04717948717948717 \n",
      "\n",
      "adding OIII\n",
      "all objects rsme:  0.07984796774829\n",
      "removing outliers\n",
      "rmse value: 0.06599752696299122\n",
      "r2 score: 0.8420811792484346\n",
      "OLF: 0.024615384615384595 \n",
      "\n",
      "adding OII\n",
      "all objects rsme:  0.06782208949469452\n",
      "removing outliers\n",
      "rmse value: 0.056430287319156024\n",
      "r2 score: 0.8910195215178304\n",
      "OLF: 0.016410256410256396 \n",
      "\n",
      "adding h_beta\n",
      "all objects rsme:  0.06471426168073297\n",
      "removing outliers\n",
      "rmse value: 0.05196564356235998\n",
      "r2 score: 0.9056176069851987\n",
      "OLF: 0.016410256410256396 \n",
      "\n",
      "adding h_alpha\n",
      "all objects rsme:  0.06493483594775032\n",
      "removing outliers\n",
      "rmse value: 0.053263822456366836\n",
      "r2 score: 0.9049313673559047\n",
      "OLF: 0.014358974358974375 \n",
      "\n"
     ]
    }
   ],
   "source": [
    "evaluation(data_set2)"
   ]
  },
  {
   "cell_type": "markdown",
   "metadata": {},
   "source": [
    "ranking of features"
   ]
  },
  {
   "cell_type": "code",
   "execution_count": 33,
   "metadata": {},
   "outputs": [
    {
     "data": {
      "image/png": "[encoded data removed]",
      "text/plain": [
       "<Figure size 432x288 with 1 Axes>"
      ]
     },
     "metadata": {
      "needs_background": "light"
     },
     "output_type": "display_data"
    }
   ],
   "source": [
    "X=data_set1.drop(\"metallicity\",axis=1)\n",
    "y=data_set1[\"metallicity\"]\n",
    "x_train,x_test,y_train,y_test=train_test_split(X,y,test_size=0.2,random_state=1)\n",
    "etr=ExtraTreesRegressor(n_jobs=-1).fit(x_train,y_train)\n",
    "feature_importances = pd.DataFrame(etr.feature_importances_, index =x_train.columns,  columns=['importance']).sort_values('importance', ascending=False)\n",
    "feature_importances.plot.bar()    # plotting ranking based on their importance   \n",
    "plt.show()"
   ]
  },
  {
   "cell_type": "code",
   "execution_count": 35,
   "metadata": {},
   "outputs": [
    {
     "data": {
      "image/png": "[encoded data removed]",
      "text/plain": [
       "<Figure size 432x288 with 1 Axes>"
      ]
     },
     "metadata": {
      "needs_background": "light"
     },
     "output_type": "display_data"
    }
   ],
   "source": [
    "X=data_set2.drop(\"metallicity\",axis=1)\n",
    "y=data_set2[\"metallicity\"]\n",
    "x_train,x_test,y_train,y_test=train_test_split(X,y,test_size=0.2,random_state=1)\n",
    "etr=ExtraTreesRegressor(n_jobs=-1).fit(x_train,y_train)\n",
    "feature_importances = pd.DataFrame(etr.feature_importances_, index =x_train.columns,  columns=['importance']).sort_values('importance', ascending=False)\n",
    "feature_importances.plot.bar()    # plotting ranking based on their importance   \n",
    "plt.show()"
   ]
  },
  {
   "cell_type": "code",
   "execution_count": null,
   "metadata": {},
   "outputs": [],
   "source": []
  }
 ],
 "metadata": {
  "kernelspec": {
   "display_name": "Python 3.10.4 64-bit",
   "language": "python",
   "name": "python3"
  },
  "language_info": {
   "codemirror_mode": {
    "name": "ipython",
    "version": 3
   },
   "file_extension": ".py",
   "mimetype": "text/x-python",
   "name": "python",
   "nbconvert_exporter": "python",
   "pygments_lexer": "ipython3",
   "version": "3.10.4"
  },
  "orig_nbformat": 4,
  "vscode": {
   "interpreter": {
    "hash": "916dbcbb3f70747c44a77c7bcd40155683ae19c65e1c03b4aa3499c5328201f1"
   }
  }
 },
 "nbformat": 4,
 "nbformat_minor": 2
}
